{
 "cells": [
  {
   "cell_type": "markdown",
   "metadata": {},
   "source": [
    "# Exceptions\n",
    "\n",
    "## BProf Python course\n",
    "\n",
    "### June 25-29, 2018\n",
    "\n",
    "#### Judit Ács"
   ]
  },
  {
   "cell_type": "markdown",
   "metadata": {},
   "source": [
    "## Introduction\n",
    "\n",
    "- fully typed exception handling\n",
    "- many built-in exception classes\n",
    "- exceptions are widely used not just for error but value checking as well"
   ]
  },
  {
   "cell_type": "code",
   "execution_count": 4,
   "metadata": {},
   "outputs": [
    {
     "name": "stderr",
     "output_type": "stream",
     "text": [
      "<class 'ValueError'> invalid literal for int() with base 10: 'abc'invalid literal for int() with base 10: 'abc'"
     ]
    }
   ],
   "source": [
    "from sys import stderr\n",
    "\n",
    "try:\n",
    "    int(\"abc\")\n",
    "except ValueError as e:\n",
    "    stderr.write(\"{} {}\".format(type(e), e))\n",
    "    stderr.write(str(e))"
   ]
  },
  {
   "cell_type": "markdown",
   "metadata": {},
   "source": [
    "- more than one except clauses may be defined\n",
    "- ordered from more specific to least specific"
   ]
  },
  {
   "cell_type": "code",
   "execution_count": 6,
   "metadata": {},
   "outputs": [
    {
     "name": "stdout",
     "output_type": "stream",
     "text": [
      "-34\n",
      "Other exception caught: <class 'Exception'>\n"
     ]
    }
   ],
   "source": [
    "try:\n",
    "    age = int(input())\n",
    "    if age < 0:\n",
    "        raise Exception(\"Age cannot be negative\")\n",
    "except ValueError as e:\n",
    "    print(\"ValueError caught\")\n",
    "except Exception as e:\n",
    "    print(\"Other exception caught: {}\".format(type(e)))"
   ]
  },
  {
   "cell_type": "markdown",
   "metadata": {},
   "source": [
    "### More than one type of exception can be handled in the same except clause"
   ]
  },
  {
   "cell_type": "code",
   "execution_count": 8,
   "metadata": {},
   "outputs": [
    {
     "name": "stdout",
     "output_type": "stream",
     "text": [
      "sdfs\n",
      "ValueError caught\n"
     ]
    }
   ],
   "source": [
    "def age_printer(age):\n",
    "    next_age = age + 1\n",
    "    print(\"Next year your age will be \" + next_age)\n",
    "    \n",
    "try:\n",
    "    your_age = input()\n",
    "    your_age = int(your_age)\n",
    "    age_printer(your_age)\n",
    "except ValueError:\n",
    "    print(\"ValueError caught\")\n",
    "except TypeError:\n",
    "    print(\"TypeError caught\")"
   ]
  },
  {
   "cell_type": "code",
   "execution_count": 10,
   "metadata": {},
   "outputs": [
    {
     "name": "stdout",
     "output_type": "stream",
     "text": [
      "34\n",
      "TypeError caught\n"
     ]
    }
   ],
   "source": [
    "def age_printer(age):\n",
    "    next_age = age + 1\n",
    "    print(\"Next year your age will be \" + next_age)\n",
    "    \n",
    "try:\n",
    "    your_age = input()\n",
    "    your_age = int(your_age)\n",
    "    age_printer(your_age)\n",
    "except (ValueError, TypeError) as e:\n",
    "    print(\"{} caught\".format(type(e).__name__))"
   ]
  },
  {
   "cell_type": "markdown",
   "metadata": {},
   "source": [
    "### except without an Exception type\n",
    "\n",
    "- without specifying a type, `except` catches everything but all information about the exception is lost"
   ]
  },
  {
   "cell_type": "code",
   "execution_count": 13,
   "metadata": {},
   "outputs": [
    {
     "name": "stdout",
     "output_type": "stream",
     "text": [
      "-23\n",
      "Something else caught\n"
     ]
    }
   ],
   "source": [
    "try:\n",
    "    age = int(input())\n",
    "    if age < 0:\n",
    "        raise Exception(\"Age cannot be negative\")\n",
    "except ValueError:\n",
    "    print(\"ValueError caught\")\n",
    "except:\n",
    "#except Exception as e:\n",
    "    print(\"Something else caught\")"
   ]
  },
  {
   "cell_type": "markdown",
   "metadata": {},
   "source": [
    "- the empty `except` must be the last except block since it blocks all others\n",
    "- `SyntaxError` otherwise"
   ]
  },
  {
   "cell_type": "code",
   "execution_count": 16,
   "metadata": {},
   "outputs": [
    {
     "name": "stdout",
     "output_type": "stream",
     "text": [
      "sdf\n",
      "ValueError caught\n"
     ]
    }
   ],
   "source": [
    "try:\n",
    "    age = int(input())\n",
    "    if age < 0:\n",
    "        raise Exception(\"Age cannot be negative\")\n",
    "#except:\n",
    "    #print(\"Something else caught\")\n",
    "except ValueError:\n",
    "    print(\"ValueError caught\")"
   ]
  },
  {
   "cell_type": "markdown",
   "metadata": {},
   "source": [
    "### Base class' except clauses catch derived classes too"
   ]
  },
  {
   "cell_type": "code",
   "execution_count": 19,
   "metadata": {},
   "outputs": [
    {
     "name": "stdout",
     "output_type": "stream",
     "text": [
      "sdf\n",
      "Exception caught: <class 'ValueError'>\n"
     ]
    }
   ],
   "source": [
    "try:\n",
    "    age = int(input())\n",
    "    if age < 0:\n",
    "        raise Exception(\"Age cannot be negative\")\n",
    "except Exception as e:\n",
    "    print(\"Exception caught: {}\".format(type(e)))\n",
    "except ValueError:\n",
    "    print(\"ValueError caught\")"
   ]
  },
  {
   "cell_type": "markdown",
   "metadata": {},
   "source": [
    "### finally\n",
    "\n",
    "- the `finally` block is guaranteed to run regardless an exception was raised or not"
   ]
  },
  {
   "cell_type": "code",
   "execution_count": 21,
   "metadata": {},
   "outputs": [
    {
     "name": "stdout",
     "output_type": "stream",
     "text": [
      "12\n",
      "this always runs\n"
     ]
    }
   ],
   "source": [
    "try:\n",
    "    age = int(input())\n",
    "except Exception as e:\n",
    "    print(type(e), e)\n",
    "finally:\n",
    "    print(\"this always runs\")"
   ]
  },
  {
   "cell_type": "markdown",
   "metadata": {},
   "source": [
    "### else\n",
    "\n",
    "- try-except blocks may have an else clause that **only** runs if no exception was raised"
   ]
  },
  {
   "cell_type": "code",
   "execution_count": 26,
   "metadata": {},
   "outputs": [
    {
     "name": "stdout",
     "output_type": "stream",
     "text": [
      "345\n",
      "No exception was raised\n",
      "this always runs\n"
     ]
    }
   ],
   "source": [
    "try:\n",
    "    age = int(input())\n",
    "except ValueError as e:\n",
    "    print(\"Exception\", e)\n",
    "else:\n",
    "    print(\"No exception was raised\")\n",
    "    # raise Exception(\"Raising an exception in else\")\n",
    "finally:\n",
    "    print(\"this always runs\")"
   ]
  },
  {
   "cell_type": "markdown",
   "metadata": {},
   "source": [
    "### `raise` keyword\n",
    "\n",
    "- `raise` throws/raises an exception\n",
    "- an empty `raise` in an `except`"
   ]
  },
  {
   "cell_type": "code",
   "execution_count": 30,
   "metadata": {},
   "outputs": [],
   "source": [
    "try:\n",
    "    int(\"not a number\")\n",
    "except Exception:\n",
    "    # important log message\n",
    "    # raise\n",
    "    pass"
   ]
  },
  {
   "cell_type": "markdown",
   "metadata": {},
   "source": [
    "### Defining exceptions\n",
    "\n",
    "- any type that subclasses `Exception` (`BaseException` to be exact) can be used as an exception object"
   ]
  },
  {
   "cell_type": "code",
   "execution_count": 31,
   "metadata": {},
   "outputs": [
    {
     "name": "stdout",
     "output_type": "stream",
     "text": [
      "-34\n",
      "Age cannot be negative. Invalid age: -34\n"
     ]
    }
   ],
   "source": [
    "class NegativeAgeError(Exception):\n",
    "    pass\n",
    "\n",
    "try:\n",
    "    age = int(input())\n",
    "    if age < 0:\n",
    "        raise NegativeAgeError(\"Age cannot be negative. Invalid age: {}\".format(age))\n",
    "except NegativeAgeError as e:\n",
    "    print(e)\n",
    "except Exception as e:\n",
    "    print(\"Something else happened. Caught {}, with message {}\".format(type(e), e))"
   ]
  },
  {
   "cell_type": "markdown",
   "metadata": {},
   "source": [
    "Using exception for trial-and-error is considered Pythonic:"
   ]
  },
  {
   "cell_type": "code",
   "execution_count": 33,
   "metadata": {},
   "outputs": [
    {
     "name": "stdout",
     "output_type": "stream",
     "text": [
      "sdfs\n",
      "not an int\n"
     ]
    }
   ],
   "source": [
    "try:\n",
    "    v = input()\n",
    "    int(v)\n",
    "except ValueError:\n",
    "    print(\"not an int\")\n",
    "else:\n",
    "    print(\"looks like an int\")"
   ]
  }
 ],
 "metadata": {
  "kernelspec": {
   "display_name": "Python 3",
   "language": "python",
   "name": "python3"
  },
  "language_info": {
   "codemirror_mode": {
    "name": "ipython",
    "version": 3
   },
   "file_extension": ".py",
   "mimetype": "text/x-python",
   "name": "python",
   "nbconvert_exporter": "python",
   "pygments_lexer": "ipython3",
   "version": "3.6.5"
  }
 },
 "nbformat": 4,
 "nbformat_minor": 2
}
