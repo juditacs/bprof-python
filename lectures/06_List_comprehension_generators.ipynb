{
 "cells": [
  {
   "cell_type": "markdown",
   "metadata": {},
   "source": [
    "# List comprehension, generators, iteration\n",
    "\n",
    "## BProf Python course\n",
    "\n",
    "### June 25-29, 2018\n",
    "\n",
    "#### Judit Ács"
   ]
  },
  {
   "cell_type": "markdown",
   "metadata": {},
   "source": [
    "# List comprehension\n",
    "\n",
    "- transform any iterable into a list in one line\n",
    "- syntactic sugar\n",
    "- example: create a list of the first N odd numbers starting from 1"
   ]
  },
  {
   "cell_type": "code",
   "execution_count": 1,
   "metadata": {},
   "outputs": [
    {
     "data": {
      "text/plain": [
       "[1, 3, 5, 7, 9, 11, 13, 15, 17, 19]"
      ]
     },
     "execution_count": 1,
     "metadata": {},
     "output_type": "execute_result"
    }
   ],
   "source": [
    "l = []\n",
    "for i in range(10):\n",
    "    l.append(2*i+1)\n",
    "l"
   ]
  },
  {
   "cell_type": "markdown",
   "metadata": {},
   "source": [
    "one-liner equivalent"
   ]
  },
  {
   "cell_type": "code",
   "execution_count": 2,
   "metadata": {},
   "outputs": [
    {
     "data": {
      "text/plain": [
       "[1, 3, 5, 7, 9, 11, 13, 15, 17, 19]"
      ]
     },
     "execution_count": 2,
     "metadata": {},
     "output_type": "execute_result"
    }
   ],
   "source": [
    "l = [2*i+1 for i in range(10)]\n",
    "l"
   ]
  },
  {
   "cell_type": "markdown",
   "metadata": {},
   "source": [
    "## The general form of list comprehension is\n",
    "\n",
    "~~~\n",
    "[<expression> for <element> in <sequence>]\n",
    "~~~"
   ]
  },
  {
   "cell_type": "markdown",
   "metadata": {},
   "source": [
    "conditional expressions can be added to filter the sequence:\n",
    "\n",
    "~~~\n",
    "[<expression> for <element> in <sequence> if <condition>]\n",
    "~~~"
   ]
  },
  {
   "cell_type": "code",
   "execution_count": 3,
   "metadata": {},
   "outputs": [
    {
     "data": {
      "text/plain": [
       "[0, 4, 16, 36, 64, 100, 144, 196, 256, 324]"
      ]
     },
     "execution_count": 3,
     "metadata": {},
     "output_type": "execute_result"
    }
   ],
   "source": [
    "even = [n*n for n in range(20) if n % 2 == 0]\n",
    "even"
   ]
  },
  {
   "cell_type": "markdown",
   "metadata": {},
   "source": [
    "which is equivalent to"
   ]
  },
  {
   "cell_type": "code",
   "execution_count": 4,
   "metadata": {},
   "outputs": [
    {
     "data": {
      "text/plain": [
       "[0, 4, 16, 36, 64, 100, 144, 196, 256, 324]"
      ]
     },
     "execution_count": 4,
     "metadata": {},
     "output_type": "execute_result"
    }
   ],
   "source": [
    "even = []\n",
    "for n in range(20):\n",
    "    if n % 2 == 0:\n",
    "        even.append(n*n)\n",
    "even"
   ]
  },
  {
   "cell_type": "markdown",
   "metadata": {},
   "source": [
    "- since this expression implements a filtering mechanism, there is no `else` clause\n",
    "\n",
    "- an if-else clause can be used as the first expression though:"
   ]
  },
  {
   "cell_type": "code",
   "execution_count": 5,
   "metadata": {},
   "outputs": [
    {
     "data": {
      "text/plain": [
       "[1, 0, -1, 1, -1, -1, 0]"
      ]
     },
     "execution_count": 5,
     "metadata": {},
     "output_type": "execute_result"
    }
   ],
   "source": [
    "l = [1, 0, -2, 3, -1, -5, 0]\n",
    "\n",
    "signum_l = [(int(n / abs(n)) if n != 0 else 0) for n in l]\n",
    "signum_l"
   ]
  },
  {
   "cell_type": "code",
   "execution_count": 6,
   "metadata": {},
   "outputs": [
    {
     "data": {
      "text/plain": [
       "-1"
      ]
     },
     "execution_count": 6,
     "metadata": {},
     "output_type": "execute_result"
    }
   ],
   "source": [
    "n = -3.2\n",
    "int(n / abs(n)) if n != 0 else 0"
   ]
  },
  {
   "cell_type": "markdown",
   "metadata": {},
   "source": [
    "More than one sequence may be traversed. Is this depth-first or breadth-first traversal?"
   ]
  },
  {
   "cell_type": "code",
   "execution_count": 7,
   "metadata": {},
   "outputs": [
    {
     "data": {
      "text/plain": [
       "[(1, 4), (1, 5), (1, 6), (2, 4), (2, 5), (2, 6), (3, 4), (3, 5), (3, 6)]"
      ]
     },
     "execution_count": 7,
     "metadata": {},
     "output_type": "execute_result"
    }
   ],
   "source": [
    "l1 = [1, 2, 3]\n",
    "l2 = [4, 5, 6]\n",
    "\n",
    "[(i, j) for i in l1 for j in l2]"
   ]
  },
  {
   "cell_type": "code",
   "execution_count": 8,
   "metadata": {},
   "outputs": [
    {
     "data": {
      "text/plain": [
       "[(1, 4), (2, 4), (3, 4), (1, 5), (2, 5), (3, 5), (1, 6), (2, 6), (3, 6)]"
      ]
     },
     "execution_count": 8,
     "metadata": {},
     "output_type": "execute_result"
    }
   ],
   "source": [
    "[(i, j) for j in l2 for i in l1]"
   ]
  },
  {
   "cell_type": "markdown",
   "metadata": {},
   "source": [
    "List comprehensions may be nested by replacing the first expression with another list comprehension:"
   ]
  },
  {
   "cell_type": "code",
   "execution_count": 9,
   "metadata": {},
   "outputs": [
    {
     "data": {
      "text/plain": [
       "[[1, 4, 9], [25, 36, 49]]"
      ]
     },
     "execution_count": 9,
     "metadata": {},
     "output_type": "execute_result"
    }
   ],
   "source": [
    "matrix = [\n",
    "    [1, 2, 3],\n",
    "    [5, 6, 7]\n",
    "]\n",
    "\n",
    "[[e*e for e in row] for row in matrix]"
   ]
  },
  {
   "cell_type": "markdown",
   "metadata": {},
   "source": [
    "## What is the type of a (list) comprehension?"
   ]
  },
  {
   "cell_type": "code",
   "execution_count": 10,
   "metadata": {},
   "outputs": [
    {
     "data": {
      "text/plain": [
       "generator"
      ]
     },
     "execution_count": 10,
     "metadata": {},
     "output_type": "execute_result"
    }
   ],
   "source": [
    "i = (i for i in range(10))\n",
    "type(i)"
   ]
  },
  {
   "cell_type": "markdown",
   "metadata": {},
   "source": [
    "# Generator expressions\n",
    "\n",
    "Generator expressions are a generalization of list comprehension. They were introduced in PEP 289 in 2002.\n",
    "\n",
    "Check out the memory consumption of these cells."
   ]
  },
  {
   "cell_type": "code",
   "execution_count": 11,
   "metadata": {},
   "outputs": [
    {
     "name": "stdout",
     "output_type": "stream",
     "text": [
      "9999999900000000\n"
     ]
    }
   ],
   "source": [
    "N = 8\n",
    "s = sum([i*2 for i in range(int(10**N))])\n",
    "print(s)"
   ]
  },
  {
   "cell_type": "code",
   "execution_count": 12,
   "metadata": {},
   "outputs": [
    {
     "name": "stdout",
     "output_type": "stream",
     "text": [
      "9999999900000000\n"
     ]
    }
   ],
   "source": [
    "s = sum(i*2 for i in range(int(10**N)))\n",
    "print(s)"
   ]
  },
  {
   "cell_type": "markdown",
   "metadata": {},
   "source": [
    "Generators do not generate a list in memory"
   ]
  },
  {
   "cell_type": "code",
   "execution_count": 13,
   "metadata": {},
   "outputs": [
    {
     "data": {
      "text/plain": [
       "<generator object <genexpr> at 0x7fd8e80795c8>"
      ]
     },
     "execution_count": 13,
     "metadata": {},
     "output_type": "execute_result"
    }
   ],
   "source": [
    "even_numbers = (2*n for n in range(10))\n",
    "even_numbers"
   ]
  },
  {
   "cell_type": "markdown",
   "metadata": {},
   "source": [
    "therefore they can only be traversed once"
   ]
  },
  {
   "cell_type": "code",
   "execution_count": 14,
   "metadata": {},
   "outputs": [
    {
     "name": "stdout",
     "output_type": "stream",
     "text": [
      "0\n",
      "2\n",
      "4\n",
      "6\n",
      "8\n",
      "10\n",
      "12\n",
      "14\n",
      "16\n",
      "18\n"
     ]
    }
   ],
   "source": [
    "for num in even_numbers:\n",
    "    print(num)"
   ]
  },
  {
   "cell_type": "markdown",
   "metadata": {},
   "source": [
    "the generator is empty after the first run"
   ]
  },
  {
   "cell_type": "code",
   "execution_count": 15,
   "metadata": {},
   "outputs": [],
   "source": [
    "for num in even_numbers:\n",
    "    print(num)"
   ]
  },
  {
   "cell_type": "markdown",
   "metadata": {},
   "source": [
    "calling `next()` raises a `StopIteration` exception"
   ]
  },
  {
   "cell_type": "code",
   "execution_count": 16,
   "metadata": {},
   "outputs": [
    {
     "name": "stdout",
     "output_type": "stream",
     "text": [
      "0\n",
      "2\n",
      "4\n",
      "6\n",
      "8\n",
      "10\n",
      "12\n",
      "14\n",
      "16\n",
      "18\n"
     ]
    }
   ],
   "source": [
    "even_numbers = (2*n for n in range(10))\n",
    "\n",
    "while True:\n",
    "    try:\n",
    "        print(next(even_numbers))\n",
    "    except StopIteration:\n",
    "        break"
   ]
  },
  {
   "cell_type": "code",
   "execution_count": 17,
   "metadata": {},
   "outputs": [],
   "source": [
    "# next(even_numbers)  # raises StopIteration"
   ]
  },
  {
   "cell_type": "code",
   "execution_count": 18,
   "metadata": {},
   "outputs": [
    {
     "name": "stdout",
     "output_type": "stream",
     "text": [
      "1\n",
      "2\n",
      "3\n"
     ]
    }
   ],
   "source": [
    "l = [1, 2, 3]\n",
    "liter = iter(l)\n",
    "print(next(liter))\n",
    "print(next(liter))\n",
    "print(next(liter))\n",
    "# print(next(liter))  # raises StopIteration"
   ]
  },
  {
   "cell_type": "markdown",
   "metadata": {},
   "source": [
    "these are actually the defining properties of the **iteration protocol**"
   ]
  },
  {
   "cell_type": "markdown",
   "metadata": {},
   "source": [
    "# Iteration protocol\n",
    "\n",
    "A class satisfies the iteration protocol if:\n",
    "\n",
    "1. it has a `__iter__` function that returns and iterator, which\n",
    "1. has a `__next__` function (this function is called `next` in Python 2),\n",
    "2. raises a `StopIteration` after a certain number of iterations\n",
    "\n",
    "For loops use the iteration protocol."
   ]
  },
  {
   "cell_type": "code",
   "execution_count": 19,
   "metadata": {},
   "outputs": [
    {
     "name": "stdout",
     "output_type": "stream",
     "text": [
      "Returning 4\n",
      "4\n",
      "Returning 3\n",
      "3\n",
      "Returning 2\n",
      "2\n",
      "Returning 1\n",
      "1\n",
      "Returning 0\n",
      "0\n"
     ]
    }
   ],
   "source": [
    "class MyIterator:\n",
    "    def __init__(self):\n",
    "        self.iter_no = 5\n",
    "        \n",
    "    def __iter__(self):\n",
    "        return self\n",
    "    \n",
    "    def __next__(self):\n",
    "        if self.iter_no <= 0:\n",
    "            raise StopIteration()\n",
    "        self.iter_no -= 1\n",
    "        print(\"Returning {}\".format(self.iter_no))\n",
    "        return self.iter_no\n",
    "    \n",
    "myiter = MyIterator()\n",
    "\n",
    "for i in myiter:\n",
    "    print(i)"
   ]
  },
  {
   "cell_type": "code",
   "execution_count": 20,
   "metadata": {},
   "outputs": [
    {
     "name": "stdout",
     "output_type": "stream",
     "text": [
      "a\n",
      "b\n",
      "c\n",
      "e\n"
     ]
    }
   ],
   "source": [
    "class MyList:\n",
    "    def __init__(self, elements):\n",
    "        self.l = list(elements)\n",
    "        \n",
    "    def __iter__(self):\n",
    "        return iter(self.l)\n",
    "    \n",
    "for e in MyList(\"abce\"):\n",
    "    print(e)"
   ]
  },
  {
   "cell_type": "code",
   "execution_count": 21,
   "metadata": {},
   "outputs": [],
   "source": [
    "gen1 = (n * n for n in range(10))\n",
    "gen2 = gen1\n",
    "\n",
    "for e in gen1:\n",
    "    pass\n",
    "\n",
    "for e in gen2:\n",
    "    print(e)"
   ]
  },
  {
   "cell_type": "markdown",
   "metadata": {},
   "source": [
    "# Set and dict comprehension\n",
    "\n",
    "Sets and dictionaries can be instantiated via generator expressions too.\n",
    "\n",
    "A generator expression between curly brackets instantiates a set:"
   ]
  },
  {
   "cell_type": "code",
   "execution_count": 22,
   "metadata": {},
   "outputs": [
    {
     "data": {
      "text/plain": [
       "(set, 3, {'Apple', 'Pear', 'Plum'})"
      ]
     },
     "execution_count": 22,
     "metadata": {},
     "output_type": "execute_result"
    }
   ],
   "source": [
    "fruit_list = [\"apple\", \"plum\", \"apple\", \"pear\"]\n",
    "\n",
    "fruits = {fruit.title() for fruit in fruit_list}\n",
    "\n",
    "type(fruits), len(fruits), fruits"
   ]
  },
  {
   "cell_type": "markdown",
   "metadata": {},
   "source": [
    "if the expression in the generator is a key-value pair separated by a colon, it instantiates a dictionary:"
   ]
  },
  {
   "cell_type": "code",
   "execution_count": 23,
   "metadata": {},
   "outputs": [
    {
     "data": {
      "text/plain": [
       "(dict, 3, {'apple': 5, 'pear': 4, 'plum': 4})"
      ]
     },
     "execution_count": 23,
     "metadata": {},
     "output_type": "execute_result"
    }
   ],
   "source": [
    "word_list = [\"apple\", \"plum\", \"pear\", \"apple\", \"apple\"]\n",
    "word_length = {word: len(word) for word in word_list}\n",
    "type(word_length), len(word_length), word_length"
   ]
  },
  {
   "cell_type": "code",
   "execution_count": 24,
   "metadata": {},
   "outputs": [
    {
     "data": {
      "text/plain": [
       "{'a': 'avocado', 'p': 'pear'}"
      ]
     },
     "execution_count": 24,
     "metadata": {},
     "output_type": "execute_result"
    }
   ],
   "source": [
    "word_list = [\"apple\", \"plum\", \"pear\", \"avocado\"]\n",
    "first_letters = {word[0]: word for word in word_list}\n",
    "first_letters"
   ]
  },
  {
   "cell_type": "markdown",
   "metadata": {},
   "source": [
    "# `yield` keyword\n",
    "\n",
    "- if a function uses `yield` instead of return, it becomes a **generator function**\n",
    "- `yield` temporarily gives back the execution to the caller\n",
    "- the generator function continues"
   ]
  },
  {
   "cell_type": "code",
   "execution_count": 25,
   "metadata": {},
   "outputs": [],
   "source": [
    "def hungarian_vowels():\n",
    "    alphabet = (\"a\", \"á\", \"e\", \"é\", \"i\", \"í\", \"o\", \"ó\",\n",
    "                \"ö\", \"ő\", \"u\", \"ú\", \"ü\", \"ű\")\n",
    "    for vowel in alphabet:\n",
    "        yield vowel"
   ]
  },
  {
   "cell_type": "markdown",
   "metadata": {},
   "source": [
    "this function returns a generator object"
   ]
  },
  {
   "cell_type": "code",
   "execution_count": 26,
   "metadata": {},
   "outputs": [
    {
     "data": {
      "text/plain": [
       "generator"
      ]
     },
     "execution_count": 26,
     "metadata": {},
     "output_type": "execute_result"
    }
   ],
   "source": [
    "type(hungarian_vowels())"
   ]
  },
  {
   "cell_type": "code",
   "execution_count": 27,
   "metadata": {},
   "outputs": [
    {
     "name": "stdout",
     "output_type": "stream",
     "text": [
      "a\n",
      "á\n",
      "e\n",
      "é\n",
      "i\n",
      "í\n",
      "o\n",
      "ó\n",
      "ö\n",
      "ő\n",
      "u\n",
      "ú\n",
      "ü\n",
      "ű\n"
     ]
    }
   ],
   "source": [
    "for vowel in hungarian_vowels():\n",
    "    print(vowel)"
   ]
  },
  {
   "cell_type": "code",
   "execution_count": 28,
   "metadata": {},
   "outputs": [
    {
     "name": "stdout",
     "output_type": "stream",
     "text": [
      "first iteration: a, á, e, é, i, í, o, ó, ö, ő, u, ú, ü, ű\n",
      "second iteration: \n"
     ]
    }
   ],
   "source": [
    "gen = hungarian_vowels()\n",
    "\n",
    "print(\"first iteration: {}\".format(\", \".join(gen)))\n",
    "print(\"second iteration: {}\".format(\", \".join(gen)))"
   ]
  },
  {
   "cell_type": "code",
   "execution_count": 29,
   "metadata": {},
   "outputs": [
    {
     "name": "stdout",
     "output_type": "stream",
     "text": [
      "first iteration: a, á, e, é, i, í, o, ó, ö, ő, u, ú, ü, ű\n",
      "second iteration: a, á, e, é, i, í, o, ó, ö, ő, u, ú, ü, ű\n"
     ]
    }
   ],
   "source": [
    "print(\"first iteration: {}\".format(\", \".join(hungarian_vowels())))\n",
    "print(\"second iteration: {}\".format(\", \".join(hungarian_vowels())))"
   ]
  },
  {
   "cell_type": "markdown",
   "metadata": {},
   "source": [
    "The `next` function returns the next element of the generator.\n",
    "A `StopIteration` is raised when no more elements are left:"
   ]
  },
  {
   "cell_type": "code",
   "execution_count": 30,
   "metadata": {},
   "outputs": [
    {
     "name": "stdout",
     "output_type": "stream",
     "text": [
      "The next element is a\n",
      "The next element is á\n",
      "The next element is e\n",
      "The next element is é\n",
      "The next element is i\n",
      "The next element is í\n",
      "The next element is o\n",
      "The next element is ó\n",
      "The next element is ö\n",
      "The next element is ő\n",
      "The next element is u\n",
      "The next element is ú\n",
      "The next element is ü\n",
      "The next element is ű\n",
      "No more elements left :(\n"
     ]
    }
   ],
   "source": [
    "gen = hungarian_vowels()\n",
    "\n",
    "while True:\n",
    "    try:\n",
    "        print(\"The next element is {}\".format(next(gen)))\n",
    "    except StopIteration:\n",
    "        print(\"No more elements left :(\")\n",
    "        break"
   ]
  },
  {
   "cell_type": "markdown",
   "metadata": {},
   "source": [
    "the generator function returns a new generator object every time it's called"
   ]
  },
  {
   "cell_type": "code",
   "execution_count": 31,
   "metadata": {},
   "outputs": [
    {
     "name": "stdout",
     "output_type": "stream",
     "text": [
      "False\n",
      "gen1 first time: ['a', 'á', 'e', 'é', 'i', 'í', 'o', 'ó', 'ö', 'ő', 'u', 'ú', 'ü', 'ű']\n",
      "gen1 second time: []\n",
      "gen2 first time: ['a', 'á', 'e', 'é', 'i', 'í', 'o', 'ó', 'ö', 'ő', 'u', 'ú', 'ü', 'ű']\n"
     ]
    }
   ],
   "source": [
    "gen1 = hungarian_vowels()\n",
    "gen2 = hungarian_vowels()\n",
    "\n",
    "print(gen1 is gen2)\n",
    "print(\"gen1 first time:\", list(gen1))\n",
    "print(\"gen1 second time:\", list(gen1))\n",
    "print(\"gen2 first time:\", list(gen2))"
   ]
  },
  {
   "cell_type": "markdown",
   "metadata": {},
   "source": [
    "iterators can only be traversed forward, but we can easily wrap an iterator to have memory:"
   ]
  },
  {
   "cell_type": "code",
   "execution_count": 32,
   "metadata": {},
   "outputs": [],
   "source": [
    "def iter_with_memory(orig_iter):\n",
    "    prev = None\n",
    "    for current in orig_iter:\n",
    "        yield current, prev\n",
    "        prev = current"
   ]
  },
  {
   "cell_type": "code",
   "execution_count": 33,
   "metadata": {},
   "outputs": [
    {
     "name": "stdout",
     "output_type": "stream",
     "text": [
      "('a', None)\n",
      "('á', 'a')\n",
      "('e', 'á')\n",
      "('é', 'e')\n",
      "('i', 'é')\n",
      "('í', 'i')\n",
      "('o', 'í')\n",
      "('ó', 'o')\n",
      "('ö', 'ó')\n",
      "('ő', 'ö')\n",
      "('u', 'ő')\n",
      "('ú', 'u')\n",
      "('ü', 'ú')\n",
      "('ű', 'ü')\n"
     ]
    }
   ],
   "source": [
    "for i in iter_with_memory(hungarian_vowels()):\n",
    "    print(i)"
   ]
  },
  {
   "cell_type": "markdown",
   "metadata": {},
   "source": [
    "## Q. Add a `memory_size` parameter to the previous function which specifies how many of the previous elements are stored.\n",
    "\n",
    "You can yield them in a list or better, wrap it in a class."
   ]
  },
  {
   "cell_type": "code",
   "execution_count": null,
   "metadata": {},
   "outputs": [],
   "source": []
  },
  {
   "cell_type": "markdown",
   "metadata": {},
   "source": [
    "# Exercises\n",
    "\n",
    "Generator expressions can be particularly useful for formatted output. We will demonstrate this through a few examples."
   ]
  },
  {
   "cell_type": "code",
   "execution_count": 34,
   "metadata": {},
   "outputs": [
    {
     "name": "stdout",
     "output_type": "stream",
     "text": [
      "1, -2, 3, 1\n"
     ]
    }
   ],
   "source": [
    "numbers = [1, -2, 3, 1]\n",
    "\n",
    "# print(\", \".join(numbers))  # raises TypeError\n",
    "print(\", \".join(str(number) for number in numbers))"
   ]
  },
  {
   "cell_type": "code",
   "execution_count": 35,
   "metadata": {},
   "outputs": [],
   "source": [
    "shopping_list = [\"apple\", \"plum\", \"pear\"]"
   ]
  },
  {
   "cell_type": "markdown",
   "metadata": {},
   "source": [
    "~~~\n",
    "The shopping list is:\n",
    "item 1: apple\n",
    "item 2: plum\n",
    "item 3: pear\n",
    "~~~"
   ]
  },
  {
   "cell_type": "code",
   "execution_count": 36,
   "metadata": {},
   "outputs": [
    {
     "name": "stdout",
     "output_type": "stream",
     "text": [
      "The shopping list is:\n",
      "item 1: apple\n",
      "item 2: plum\n",
      "item 3: pear\n"
     ]
    }
   ],
   "source": [
    "shopping_list = [\"apple\", \"plum\", \"pear\"]\n",
    "\n",
    "print(\"The shopping list is:\\n{}\".format(\n",
    "    \"\\n\".join(\"item {}: {}\".format(i+1, item) for i, item in enumerate(shopping_list))))"
   ]
  },
  {
   "cell_type": "markdown",
   "metadata": {},
   "source": [
    "## Q. Print the following shopping list with quantities.\n",
    "\n",
    "For example:\n",
    "\n",
    "~~~\n",
    "item 1: apple, quantity: 2\n",
    "item 2: pear, quantity: 1\n",
    "~~~"
   ]
  },
  {
   "cell_type": "code",
   "execution_count": 37,
   "metadata": {},
   "outputs": [
    {
     "name": "stdout",
     "output_type": "stream",
     "text": [
      "item 1: apple, quantity: 2\n",
      "item 2: pear, quantity: 1\n",
      "item 3: plum, quantity: 5\n"
     ]
    }
   ],
   "source": [
    "shopping_list = {\n",
    "    \"apple\": 2,\n",
    "    \"pear\": 1,\n",
    "    \"plum\": 5,\n",
    "}\n",
    "\n",
    "print(\"\\n\".join(\"item {}: {}, quantity: {}\".format(idx+1, item, quantity)\n",
    "                for idx, (item, quantity) in enumerate(shopping_list.items())))"
   ]
  },
  {
   "cell_type": "markdown",
   "metadata": {},
   "source": [
    "## Q. Print the same format in alphabetical order.\n",
    "\n",
    "- Decreasing order by quantity"
   ]
  },
  {
   "cell_type": "code",
   "execution_count": 38,
   "metadata": {},
   "outputs": [
    {
     "name": "stdout",
     "output_type": "stream",
     "text": [
      "item 1: apple, quantity: 2\n",
      "item 2: pear, quantity: 1\n",
      "item 3: plum, quantity: 5\n"
     ]
    }
   ],
   "source": [
    "shopping_list = {\n",
    "    \"apple\": 2,\n",
    "    \"pear\": 1,\n",
    "    \"plum\": 5,\n",
    "}\n",
    "print(\"\\n\".join(\"item {}: {}, quantity: {}\".format(idx+1, item, quantity)\n",
    "                for idx, (item, quantity) in enumerate(sorted(shopping_list.items()))))"
   ]
  },
  {
   "cell_type": "code",
   "execution_count": 39,
   "metadata": {},
   "outputs": [
    {
     "name": "stdout",
     "output_type": "stream",
     "text": [
      "item 1: plum, quantity: 5\n",
      "item 2: apple, quantity: 2\n",
      "item 3: pear, quantity: 1\n"
     ]
    }
   ],
   "source": [
    "print(\"\\n\".join(\n",
    "    \"item {0}: {1}, quantity: {2}\".format(idx+1, item, quantity) for idx, (item, quantity) in\n",
    "    enumerate(sorted(shopping_list.items(), key=lambda x: -x[1]))))"
   ]
  },
  {
   "cell_type": "markdown",
   "metadata": {},
   "source": [
    "## Q. Print the list of students. "
   ]
  },
  {
   "cell_type": "code",
   "execution_count": 40,
   "metadata": {},
   "outputs": [],
   "source": [
    "students = [\n",
    "    [\"Joe\", \"John\", \"Mary\"],\n",
    "    [\"Tina\", \"Tony\", \"Jeff\", \"Béla\"],\n",
    "    [\"Pete\", \"Dave\"],\n",
    "]"
   ]
  },
  {
   "cell_type": "code",
   "execution_count": null,
   "metadata": {},
   "outputs": [],
   "source": []
  },
  {
   "cell_type": "markdown",
   "metadata": {},
   "source": [
    "## Q. Print one class-per-line and print the size of the class too\n",
    "\n",
    "Example:\n",
    "~~~\n",
    "class 1, size: 3, students: Joe, John, Mary\n",
    "class 2, size: 2, students: Pete, Dave\n",
    "~~~"
   ]
  },
  {
   "cell_type": "code",
   "execution_count": null,
   "metadata": {},
   "outputs": [],
   "source": []
  },
  {
   "cell_type": "markdown",
   "metadata": {},
   "source": [
    "## Q. Sort the classes by size in increasing order\n",
    "\n",
    "Example:\n",
    "~~~\n",
    "class 1, size: 2, students: Pete, Dave\n",
    "class 2, size: 3, students: Joe, John, Mary\n",
    "~~~"
   ]
  },
  {
   "cell_type": "code",
   "execution_count": null,
   "metadata": {},
   "outputs": [],
   "source": []
  },
  {
   "cell_type": "code",
   "execution_count": 41,
   "metadata": {},
   "outputs": [
    {
     "data": {
      "text/plain": [
       "['a', 'á', 'á', 'á', 'b', 'c', 'd', 'é', 'ú', 'ű']"
      ]
     },
     "execution_count": 41,
     "metadata": {},
     "output_type": "execute_result"
    }
   ],
   "source": [
    "hun_mapping = {c: i for i, c in enumerate(\"aábcdéúű\")}\n",
    "\n",
    "sorted(list(\"aááéáúűbcd\"), key=lambda c: hun_mapping[c])"
   ]
  }
 ],
 "metadata": {
  "kernelspec": {
   "display_name": "Python 3",
   "language": "python",
   "name": "python3"
  },
  "language_info": {
   "codemirror_mode": {
    "name": "ipython",
    "version": 3
   },
   "file_extension": ".py",
   "mimetype": "text/x-python",
   "name": "python",
   "nbconvert_exporter": "python",
   "pygments_lexer": "ipython3",
   "version": "3.6.5"
  }
 },
 "nbformat": 4,
 "nbformat_minor": 2
}
