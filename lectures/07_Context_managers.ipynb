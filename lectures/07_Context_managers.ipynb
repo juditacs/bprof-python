{
 "cells": [
  {
   "cell_type": "markdown",
   "metadata": {},
   "source": [
    "# Context managers\n",
    "\n",
    "## BProf Python course\n",
    "\n",
    "### June 25-29, 2018\n",
    "\n",
    "#### Judit Ács"
   ]
  },
  {
   "cell_type": "markdown",
   "metadata": {
    "collapsed": true
   },
   "source": [
    "## Managed resources\n",
    "\n",
    "- resource acquisition and release are automatically done\n",
    "- no need for manual resource management\n",
    "- example: memory\n",
    "  - C++ has both managed and unmanaged memory management. The stack is managed, but the heap is not, we need to manually call `new` and `delete`.\n",
    "\n",
    "## Unmanaged resources\n",
    "\n",
    "- unmanaged resources need explicit release\n",
    "- otherwise the operating system may run out of the resource\n",
    "- examples include files, network sockets"
   ]
  },
  {
   "cell_type": "code",
   "execution_count": 1,
   "metadata": {},
   "outputs": [
    {
     "data": {
      "text/plain": [
       "970"
      ]
     },
     "execution_count": 1,
     "metadata": {},
     "output_type": "execute_result"
    }
   ],
   "source": [
    "fh = []\n",
    "while True:\n",
    "    try:\n",
    "        fh.append(open(\"abc.txt\", \"w\"))\n",
    "    except OSError:\n",
    "        break\n",
    "len(fh)"
   ]
  },
  {
   "cell_type": "code",
   "execution_count": 2,
   "metadata": {},
   "outputs": [],
   "source": [
    "for f in fh:\n",
    "    f.close()"
   ]
  },
  {
   "cell_type": "markdown",
   "metadata": {},
   "source": [
    "- we need to manually close the file\n",
    "- what happens when an exception occurs"
   ]
  },
  {
   "cell_type": "code",
   "execution_count": 3,
   "metadata": {},
   "outputs": [],
   "source": [
    "s1 = \"important text\"\n",
    "fh = open(\"file.txt\", \"w\")\n",
    "# fh.write(s2)  # raises NameError\n",
    "fh.close()"
   ]
  },
  {
   "cell_type": "markdown",
   "metadata": {},
   "source": [
    "- the file is never closed, the file descriptor **is leaked**\n",
    "- a solution would be to use try-except blocks with `finally` clauses"
   ]
  },
  {
   "cell_type": "code",
   "execution_count": 4,
   "metadata": {},
   "outputs": [
    {
     "name": "stdout",
     "output_type": "stream",
     "text": [
      "Closing file\n"
     ]
    },
    {
     "name": "stderr",
     "output_type": "stream",
     "text": [
      "NameError happened"
     ]
    }
   ],
   "source": [
    "from sys import stderr\n",
    "\n",
    "fh = open(\"file.txt\", \"w\")\n",
    "try:\n",
    "    fh.write(important_variable)\n",
    "except Exception as e:\n",
    "    stderr.write(\"{0} happened\".format(type(e).__name__))\n",
    "finally:\n",
    "    print(\"Closing file\")\n",
    "    fh.close()"
   ]
  },
  {
   "cell_type": "markdown",
   "metadata": {},
   "source": [
    "## Context managers handle this automatically\n",
    "\n",
    "- the `with` keyword opens a resource\n",
    "- keeps it open until the execution leaves with's scope\n",
    "- releases the resource regardless whether an exception is raised or not"
   ]
  },
  {
   "cell_type": "code",
   "execution_count": 5,
   "metadata": {},
   "outputs": [],
   "source": [
    "with open(\"file.txt\", \"w\") as fh:\n",
    "    fh.write(\"abc\\n\")\n",
    "    # fh.write(important_variable)  # raises NameError"
   ]
  },
  {
   "cell_type": "markdown",
   "metadata": {},
   "source": [
    "## Defining context managers\n",
    "\n",
    "- any class can be a context manager if it implements:\n",
    "  1. `__enter__`: runs at the beginning of the `with`. Returns the resource.\n",
    "  1. `__exit__`: runs after the with block. Releases the resource."
   ]
  },
  {
   "cell_type": "code",
   "execution_count": 6,
   "metadata": {},
   "outputs": [
    {
     "name": "stdout",
     "output_type": "stream",
     "text": [
      "Dummy resource acquired\n",
      "Resource: 42\n",
      "Dummy resource released\n"
     ]
    }
   ],
   "source": [
    "class DummyContextManager:\n",
    "    def __init__(self, value):\n",
    "        self.value = value\n",
    "        \n",
    "    def __enter__(self):\n",
    "        print(\"Dummy resource acquired\")\n",
    "        return self.value\n",
    "    \n",
    "    def __exit__(self, *args):\n",
    "        print(\"Dummy resource released\")\n",
    "        \n",
    "with DummyContextManager(42) as d:\n",
    "    print(\"Resource: {}\".format(d))"
   ]
  },
  {
   "cell_type": "code",
   "execution_count": 7,
   "metadata": {},
   "outputs": [
    {
     "name": "stdout",
     "output_type": "stream",
     "text": [
      "DummyContextManager created\n",
      "Dummy resource acquired\n",
      "Resource abc\n",
      "Dummy resource released\n"
     ]
    }
   ],
   "source": [
    "d = DummyContextManager(\"abc\")\n",
    "print(\"DummyContextManager created\")\n",
    "\n",
    "with d as resource:\n",
    "    print(\"Resource\", resource)"
   ]
  },
  {
   "cell_type": "markdown",
   "metadata": {},
   "source": [
    "`__exit__` takes 3 extra arguments that describe the exception: `exc_type`, `exc_value`, `traceback`"
   ]
  },
  {
   "cell_type": "code",
   "execution_count": 8,
   "metadata": {},
   "outputs": [
    {
     "name": "stdout",
     "output_type": "stream",
     "text": [
      "Dummy resource acquired\n",
      "42\n",
      "Dummy resource released\n"
     ]
    }
   ],
   "source": [
    "from sys import stderr\n",
    "\n",
    "class DummyContextManager:\n",
    "    def __init__(self, value):\n",
    "        self.value = value\n",
    "        \n",
    "    def __enter__(self):\n",
    "        print(\"Dummy resource acquired\")\n",
    "        return self.value\n",
    "    \n",
    "    def __exit__(self, exc_type, exc_value, traceback):\n",
    "        if exc_type is not None:\n",
    "            stderr.write(\"{0} with value {1} caught\\n\"\n",
    "                  \"Traceback: {2}\".format(\n",
    "                      exc_type, exc_value, traceback))\n",
    "        print(\"Dummy resource released\")\n",
    "        \n",
    "with DummyContextManager(42) as d:\n",
    "    print(d)\n",
    "    # raise ValueError(\"just because I can\")  # __exit__ will be called anyway"
   ]
  },
  {
   "cell_type": "code",
   "execution_count": 9,
   "metadata": {},
   "outputs": [
    {
     "name": "stdout",
     "output_type": "stream",
     "text": [
      "Dummy resource acquired\n",
      "42\n",
      "Dummy resource released\n"
     ]
    },
    {
     "name": "stderr",
     "output_type": "stream",
     "text": [
      "<class 'ValueError'> with value just because I can caught\n",
      "Traceback: <traceback object at 0x7fb888523148>"
     ]
    },
    {
     "ename": "ValueError",
     "evalue": "just because I can",
     "output_type": "error",
     "traceback": [
      "\u001b[0;31m---------------------------------------------------------------------------\u001b[0m",
      "\u001b[0;31mValueError\u001b[0m                                Traceback (most recent call last)",
      "\u001b[0;32m<ipython-input-9-b1140b52422e>\u001b[0m in \u001b[0;36m<module>\u001b[0;34m()\u001b[0m\n\u001b[1;32m      1\u001b[0m \u001b[0;32mwith\u001b[0m \u001b[0mDummyContextManager\u001b[0m\u001b[0;34m(\u001b[0m\u001b[0;36m42\u001b[0m\u001b[0;34m)\u001b[0m \u001b[0;32mas\u001b[0m \u001b[0md\u001b[0m\u001b[0;34m:\u001b[0m\u001b[0;34m\u001b[0m\u001b[0m\n\u001b[1;32m      2\u001b[0m     \u001b[0mprint\u001b[0m\u001b[0;34m(\u001b[0m\u001b[0md\u001b[0m\u001b[0;34m)\u001b[0m\u001b[0;34m\u001b[0m\u001b[0m\n\u001b[0;32m----> 3\u001b[0;31m     \u001b[0;32mraise\u001b[0m \u001b[0mValueError\u001b[0m\u001b[0;34m(\u001b[0m\u001b[0;34m\"just because I can\"\u001b[0m\u001b[0;34m)\u001b[0m  \u001b[0;31m# __exit__ will be called anyway\u001b[0m\u001b[0;34m\u001b[0m\u001b[0m\n\u001b[0m",
      "\u001b[0;31mValueError\u001b[0m: just because I can"
     ]
    }
   ],
   "source": [
    "with DummyContextManager(42) as d:\n",
    "    print(d)\n",
    "    raise ValueError(\"just because I can\")  # __exit__ will be called anyway"
   ]
  },
  {
   "cell_type": "markdown",
   "metadata": {},
   "source": [
    "## Using multiple context managers in the same block"
   ]
  },
  {
   "cell_type": "code",
   "execution_count": null,
   "metadata": {},
   "outputs": [],
   "source": [
    "with open(\"/tmp/dmesg\") as infile, open(\"/tmp/dmesg.copy\", \"w\") as outfile:\n",
    "    for line in infile:\n",
    "        if \"0.00\" not in line:\n",
    "            outfile.write(line)"
   ]
  }
 ],
 "metadata": {
  "kernelspec": {
   "display_name": "Python 3",
   "language": "python",
   "name": "python3"
  },
  "language_info": {
   "codemirror_mode": {
    "name": "ipython",
    "version": 3
   },
   "file_extension": ".py",
   "mimetype": "text/x-python",
   "name": "python",
   "nbconvert_exporter": "python",
   "pygments_lexer": "ipython3",
   "version": "3.6.5"
  }
 },
 "nbformat": 4,
 "nbformat_minor": 2
}
