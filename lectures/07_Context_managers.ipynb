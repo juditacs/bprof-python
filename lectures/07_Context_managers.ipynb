{
 "cells": [
  {
   "cell_type": "markdown",
   "metadata": {},
   "source": [
    "# Context managers\n",
    "\n",
    "## BProf Python course\n",
    "\n",
    "### June 25-29, 2018\n",
    "\n",
    "#### Judit Ács"
   ]
  },
  {
   "cell_type": "markdown",
   "metadata": {
    "collapsed": true
   },
   "source": [
    "## Managed resources\n",
    "\n",
    "- resource acquisition and release are automatically done\n",
    "- no need for manual resource management\n",
    "- example: memory\n",
    "  - C++ has both managed and unmanaged memory management. The stack is managed, but the heap is not, we need to manually call `new` and `delete`.\n",
    "\n",
    "## Unmanaged resources\n",
    "\n",
    "- unmanaged resources need explicit release\n",
    "- otherwise the operating system may run out of the resource\n",
    "- examples include files, network sockets"
   ]
  },
  {
   "cell_type": "code",
   "execution_count": null,
   "metadata": {},
   "outputs": [],
   "source": [
    "fh = []\n",
    "while True:\n",
    "    try:\n",
    "        fh.append(open(\"abc.txt\", \"w\"))\n",
    "    except OSError:\n",
    "        break\n",
    "len(fh)"
   ]
  },
  {
   "cell_type": "code",
   "execution_count": null,
   "metadata": {},
   "outputs": [],
   "source": [
    "for f in fh:\n",
    "    f.close()"
   ]
  },
  {
   "cell_type": "markdown",
   "metadata": {},
   "source": [
    "- we need to manually close the file\n",
    "- what happens when an exception occurs"
   ]
  },
  {
   "cell_type": "code",
   "execution_count": null,
   "metadata": {},
   "outputs": [],
   "source": [
    "s1 = \"important text\"\n",
    "fh = open(\"file.txt\", \"w\")\n",
    "# fh.write(s2)  # raises NameError\n",
    "fh.close()"
   ]
  },
  {
   "cell_type": "markdown",
   "metadata": {},
   "source": [
    "- the file is never closed, the file descriptor **is leaked**\n",
    "- a solution would be to use try-except blocks with `finally` clauses"
   ]
  },
  {
   "cell_type": "code",
   "execution_count": null,
   "metadata": {},
   "outputs": [],
   "source": [
    "from sys import stderr\n",
    "\n",
    "fh = open(\"file.txt\", \"w\")\n",
    "try:\n",
    "    fh.write(important_variable)\n",
    "except Exception as e:\n",
    "    stderr.write(\"{0} happened\".format(type(e).__name__))\n",
    "finally:\n",
    "    print(\"Closing file\")\n",
    "    fh.close()"
   ]
  },
  {
   "cell_type": "markdown",
   "metadata": {},
   "source": [
    "## Context managers handle this automatically\n",
    "\n",
    "- the `with` keyword opens a resource\n",
    "- keeps it open until the execution leaves with's scope\n",
    "- releases the resource regardless whether an exception is raised or not"
   ]
  },
  {
   "cell_type": "code",
   "execution_count": null,
   "metadata": {},
   "outputs": [],
   "source": [
    "with open(\"file.txt\", \"w\") as fh:\n",
    "    fh.write(\"abc\\n\")\n",
    "    # fh.write(important_variable)  # raises NameError"
   ]
  },
  {
   "cell_type": "markdown",
   "metadata": {},
   "source": [
    "## Defining context managers\n",
    "\n",
    "- any class can be a context manager if it implements:\n",
    "  1. `__enter__`: runs at the beginning of the `with`. Returns the resource.\n",
    "  1. `__exit__`: runs after the with block. Releases the resource."
   ]
  },
  {
   "cell_type": "code",
   "execution_count": null,
   "metadata": {},
   "outputs": [],
   "source": [
    "class DummyContextManager:\n",
    "    def __init__(self, value):\n",
    "        self.value = value\n",
    "        \n",
    "    def __enter__(self):\n",
    "        print(\"Dummy resource acquired\")\n",
    "        return self.value\n",
    "    \n",
    "    def __exit__(self, *args):\n",
    "        print(\"Dummy resource released\")\n",
    "        \n",
    "with DummyContextManager(42) as d:\n",
    "    print(\"Resource: {}\".format(d))"
   ]
  },
  {
   "cell_type": "markdown",
   "metadata": {},
   "source": [
    "`__exit__` takes 3 extra arguments that describe the exception: `exc_type`, `exc_value`, `traceback`"
   ]
  },
  {
   "cell_type": "code",
   "execution_count": null,
   "metadata": {},
   "outputs": [],
   "source": [
    "class DummyContextManager:\n",
    "    def __init__(self, value):\n",
    "        self.value = value\n",
    "        \n",
    "    def __enter__(self):\n",
    "        print(\"Dummy resource acquired\")\n",
    "        return self.value\n",
    "    \n",
    "    def __exit__(self, exc_type, exc_value, traceback):\n",
    "        if exc_type is not None:\n",
    "            print(\"{0} with value {1} caught\\n\"\n",
    "                  \"Traceback: {2}\".format(\n",
    "                      exc_type, exc_value, traceback))\n",
    "        print(\"Dummy resource released\")\n",
    "        \n",
    "with DummyContextManager(42) as d:\n",
    "    print(d)\n",
    "    # raise ValueError(\"just because I can\")  # __exit__ will be called anyway"
   ]
  }
 ],
 "metadata": {
  "kernelspec": {
   "display_name": "Python 3",
   "language": "python",
   "name": "python3"
  },
  "language_info": {
   "codemirror_mode": {
    "name": "ipython",
    "version": 3
   },
   "file_extension": ".py",
   "mimetype": "text/x-python",
   "name": "python",
   "nbconvert_exporter": "python",
   "pygments_lexer": "ipython3",
   "version": "3.6.5"
  }
 },
 "nbformat": 4,
 "nbformat_minor": 2
}
