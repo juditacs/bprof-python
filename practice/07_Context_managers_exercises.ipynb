{
 "cells": [
  {
   "cell_type": "markdown",
   "metadata": {},
   "source": [
    "# Context managers exercises"
   ]
  },
  {
   "cell_type": "markdown",
   "metadata": {},
   "source": [
    "# 1. Timer context manager\n",
    "\n",
    "Create a `Timer` context manager that measures the running time of the `with` block. The context manager takes an optional name argument and prints the block's name at the end too. "
   ]
  },
  {
   "cell_type": "code",
   "execution_count": null,
   "metadata": {},
   "outputs": [],
   "source": [
    "class Timer(object):\n",
    "    # TODO\n",
    "        \n",
    "        \n",
    "# prints \"slow code ran for F seconds\n",
    "# F is the total_seconds the block took to finish (float)\n",
    "with Timer(\"slow code\"):\n",
    "    s = sum(range(100000))\n",
    "    \n",
    "# prints \"unnamed ran for F seconds\n",
    "with Timer():\n",
    "    s = sum(range(100000))"
   ]
  },
  {
   "cell_type": "markdown",
   "metadata": {},
   "source": [
    "# Using context managers\n",
    "\n",
    "Many built-in libraries provide context managers for unmanaged resources. We will try a few of them.\n",
    "\n",
    "## 2. `gzip`\n",
    "\n",
    "[Documentation](https://docs.python.org/3/library/gzip.html)\n",
    "\n",
    "## 2.1\n",
    "\n",
    "In Lecture 03, we downloaded a Wikipedia page and computed some statistics on it. Download the same page and save it to a gzip file using the gzip's module context manager."
   ]
  },
  {
   "cell_type": "code",
   "execution_count": null,
   "metadata": {},
   "outputs": [],
   "source": []
  },
  {
   "cell_type": "markdown",
   "metadata": {},
   "source": [
    "## 2.2\n",
    "\n",
    "Open the file for reading and open another for writing and copy all words longer than `N` from the first file into the second."
   ]
  },
  {
   "cell_type": "code",
   "execution_count": null,
   "metadata": {},
   "outputs": [],
   "source": []
  },
  {
   "cell_type": "markdown",
   "metadata": {},
   "source": [
    "# 3. `tempfile`\n",
    "\n",
    "[Documentation](https://docs.python.org/3/library/tempfile.html)\n",
    "\n",
    "##  3.1\n",
    "\n",
    "Open a temporary file for writing and write a few lines into the file. Can you open and read the file after the `with` block? If not, find a solution in the documentation."
   ]
  },
  {
   "cell_type": "code",
   "execution_count": null,
   "metadata": {},
   "outputs": [],
   "source": []
  },
  {
   "cell_type": "markdown",
   "metadata": {},
   "source": [
    "## 3.2\n",
    "\n",
    "Create a temporary directory. Download a few articles from Wikipedia and save them to separate files in the directory. Use the `os` modules (`os.path` submodule) for path handling."
   ]
  },
  {
   "cell_type": "code",
   "execution_count": null,
   "metadata": {},
   "outputs": [],
   "source": []
  },
  {
   "cell_type": "markdown",
   "metadata": {},
   "source": [
    "## 4. `DirectoryHandler`\n",
    "\n",
    "Create a `DirectoryHandler` class that:\n",
    "\n",
    "- takes a directory name as its constructor parameter. If the directory does not exist, it creates a new directory.\n",
    "- has an `add_file` function that takes a filename and creates the file in the directory that the class handles. The function should return an open file handler for writing. If a file has already been opened by `add_file`, do not open a new file, return the existing handler.\n",
    "- make it a context manager that makes sure that each file added via `add_file` is closed when the `with` block exits"
   ]
  },
  {
   "cell_type": "code",
   "execution_count": null,
   "metadata": {},
   "outputs": [],
   "source": [
    "import os\n",
    "\n",
    "class DirectoryHandler:\n",
    "    # TODO\n",
    "    pass\n",
    "                \n",
    "dirname = \"dummy_dir\"\n",
    "with DirectoryHandler(dirname) as dhandler:\n",
    "    fd = dhandler.add_file(\"f1\")\n",
    "    fd.write(\"abc\\n\")\n",
    "    fd = dhandler.add_file(\"f1\")\n",
    "    fd.write(\"abc\\n\")\n",
    "    fd = dhandler.add_file(\"f2\")\n",
    "    fd.write(\"def\\n\")\n",
    "    \n",
    "f1_name = os.path.join(dirname, \"f1\")\n",
    "\n",
    "with open(f1_name) as f:\n",
    "    assert f.read() == \"abc\\nabc\\n\"\n",
    "    \n",
    "f2_name = os.path.join(dirname, \"f2\")\n",
    "with open(f2_name) as f:\n",
    "    assert f.read() == \"def\\n\""
   ]
  },
  {
   "cell_type": "code",
   "execution_count": null,
   "metadata": {},
   "outputs": [],
   "source": [
    "# checking if files are closed\n",
    "\n",
    "handlers = []\n",
    "\n",
    "for i in range(10000):\n",
    "    d = DirectoryHandler(dirname)\n",
    "    handlers.append(d)\n",
    "    with d as dhandler:\n",
    "        dhandler.add_file(\"f3\")"
   ]
  }
 ],
 "metadata": {
  "kernelspec": {
   "display_name": "Python 3",
   "language": "python",
   "name": "python3"
  },
  "language_info": {
   "codemirror_mode": {
    "name": "ipython",
    "version": 3
   },
   "file_extension": ".py",
   "mimetype": "text/x-python",
   "name": "python",
   "nbconvert_exporter": "python",
   "pygments_lexer": "ipython3",
   "version": "3.6.5"
  }
 },
 "nbformat": 4,
 "nbformat_minor": 2
}
