{
 "cells": [
  {
   "cell_type": "markdown",
   "metadata": {
    "deletable": false,
    "editable": false,
    "nbgrader": {
     "checksum": "fb7d2919e9846a767fbd6a9850de6f46",
     "grade": false,
     "grade_id": "cell-e36a103319d128b4",
     "locked": true,
     "schema_version": 1,
     "solution": false
    }
   },
   "source": [
    "# Pandas-Jupyter labor\n",
    "\n",
    "## 2018. április 19.\n",
    "\n",
    "### Név (neptun):"
   ]
  },
  {
   "cell_type": "markdown",
   "metadata": {
    "deletable": false,
    "nbgrader": {
     "checksum": "93c53031d57abf76f00ebae185d86a27",
     "grade": true,
     "grade_id": "cell-ce6ab02274efdb7b",
     "locked": false,
     "points": 0,
     "schema_version": 1,
     "solution": true
    }
   },
   "source": [
    "YOUR ANSWER HERE"
   ]
  },
  {
   "cell_type": "markdown",
   "metadata": {
    "deletable": false,
    "editable": false,
    "nbgrader": {
     "checksum": "a21aabf229a02a21d94530ba5f6dd034",
     "grade": false,
     "grade_id": "cell-d1ff77771b6c97f5",
     "locked": true,
     "schema_version": 1,
     "solution": false
    }
   },
   "source": [
    "A labor célja egy rövid bevezetőt adni a manapság népszerű \"data science\" Python eszközeibe.\n",
    "A labor feladatai előtt mindenképp meg kell ismerkedni a Python nyelv alapjaival. A laborhoz tartozó rövid magyar Python bevezetőt [itt](https://github.com/bi-labor/pandas_jupyter/blob/master/notebooks/Python_alapok.ipynb) találod.\n",
    "\n",
    "A pandashoz egy rövid magyar bevezető [itt](https://github.com/bi-labor/pandas_jupyter/blob/master/notebooks/Pandas_alapok.ipynb).\n",
    "\n",
    "A labort összeállította: Ács Judit"
   ]
  },
  {
   "cell_type": "markdown",
   "metadata": {
    "deletable": false,
    "editable": false,
    "nbgrader": {
     "checksum": "d7f3b6c2a2a9393758dd1596a5620c94",
     "grade": false,
     "grade_id": "cell-8b51a65220366cb6",
     "locked": true,
     "schema_version": 1,
     "solution": false
    }
   },
   "source": [
    "# A labor menete\n",
    "\n",
    "A labor teljes beadandó anyaga ez a notebook. A kérdések sorszámozva vannak és Q-val kezdődnek: Q1.1-Q5.5-ig. Néhány szorgalmi kérdés is van, ezekkel plusz pontot lehet szerezni a maximálison felül. Minden kiskérdés 2 pontot ér, a 25 kérdés összesen 50 pont. A jegyek a következőképpen alakulnak:\n",
    "\n",
    "| pontszám | jegy |\n",
    "| ---- | ----|\n",
    "| 40+ | 5 |\n",
    "| 30+ | 4 |\n",
    "| 20+ | 3 |\n",
    "| 10+ | 2 |\n",
    "| 9- | 1 |\n",
    "\n",
    "A feladatokhoz tartoznak tesztek, amiket a megoldás elkészítése előtt érdemes elolvasni.\n",
    "\n",
    "**FIGYELEM!** A vizualizációt nem tartalmazó feladatok javítása automatikusan történik. A notebookban szereplő tesztek a visszatérési értékek típusát ellenőrzik, a válaszok helyességét rejtett tesztek ellenőrzik. A teszteket tartalmazó cellákat nem lehet módosítani. A kitöltendő helyek `YOUR CODE HERE` commenttel vannak jelölve (az exception dobását értelemszerűen törölni kell).\n",
    "\n",
    "# Beadás\n",
    "\n",
    "Amennyiben az órán nem sikerült befejezned, otthon folytathatod a munkát és a labor hetének végéig (vasárnap éjfél) feltöltheted. Az [Anaconda](https://www.anaconda.com/download/) Python disztribúció tartalmazza a laboranyaghoz szükséges összes csomagot, beleértve a jupytert.\n",
    "\n",
    "1. Mielőtt feltöltöd, győződj meg róla, hogy újraindított kernellel exception nélkül lefut és azokat eredményeket adja, amiket vártál. Ezt a `Kernel->Restart & Run All` opcióval teheted meg. Ha nem minden feladatot oldasz meg, akkor a `NotImplementedError`-ok miatt nem fog végigfutni, de kézzel le tudod futtatni a cellákat (Shift+Enter lefuttatja és a következőre lép).\n",
    "1. Ügyelj arra, hogy ne maradjanak hosszú táblázatok kiírva. Helyette használd a head függvényt.\n",
    "\n",
    "A laborhoz külön jegyzőkönyvet nem kell készíteni, ezt a notebookot kell vasárnap éjfélig az AUT portálra feltölteni `NEPTUN.ipynb` néven. A fájlrendszerben `pandas_labor.ipynb` néven megtalálod a notebookot abban a könyvtárban, ahonnan indítottad a jupytert.\n",
    "Az AUT portálra `.zip`-be csomagolva tudod feltölteni."
   ]
  },
  {
   "cell_type": "code",
   "execution_count": null,
   "metadata": {},
   "outputs": [],
   "source": [
    "import pandas as pd  # konvenció szerint pd aliast használunk\n",
    "%matplotlib inline\n",
    "import matplotlib\n",
    "import numpy as np\n",
    "\n",
    "# tegyük szebbé a grafikonokat\n",
    "matplotlib.style.use('ggplot')\n",
    "matplotlib.pyplot.rcParams['figure.figsize'] = (15, 3)\n",
    "matplotlib.pyplot.rcParams['font.family'] = 'sans-serif'"
   ]
  },
  {
   "cell_type": "markdown",
   "metadata": {},
   "source": [
    "A MovieLens adatsorral fogunk dolgozni, de először le kell töltenünk. http://grouplens.org/datasets/movielens/\n",
    "\n",
    "Csak akkor töltjük le a fájlt, ha még nem létezik."
   ]
  },
  {
   "cell_type": "code",
   "execution_count": null,
   "metadata": {},
   "outputs": [],
   "source": [
    "import os\n",
    "\n",
    "data_dir = os.getenv(\"MOVIELENS\")\n",
    "if data_dir is None:\n",
    "    data_dir = \"\"\n",
    "\n",
    "ml_path = os.path.join(data_dir, \"ml.zip\")\n",
    "\n",
    "if not os.path.exists(ml_path):\n",
    "    print(\"Download data\")\n",
    "    import urllib\n",
    "    u = urllib.request.URLopener()\n",
    "    u.retrieve(\"http://files.grouplens.org/datasets/movielens/ml-100k.zip\", ml_path)\n",
    "    print(\"Data downloaded\")"
   ]
  },
  {
   "cell_type": "markdown",
   "metadata": {},
   "source": [
    "Kicsomagoljuk:"
   ]
  },
  {
   "cell_type": "code",
   "execution_count": null,
   "metadata": {},
   "outputs": [],
   "source": [
    "unzip_path = os.path.join(data_dir, \"ml-100k\")\n",
    "\n",
    "if not os.path.exists(unzip_path):\n",
    "    print(\"Extracting data\")\n",
    "    from zipfile import ZipFile\n",
    "    with ZipFile(ml_path) as myzip:\n",
    "        myzip.extractall(data_dir)\n",
    "    print(\"Data extraction done\")\n",
    "        \n",
    "data_dir = unzip_path"
   ]
  },
  {
   "cell_type": "markdown",
   "metadata": {},
   "source": [
    "## Adat betöltése és normalizálása\n",
    "\n",
    "A `pd.read_table` függvény táblázatos adatok betöltésére alkalmas. Több tucat paraméterrel [rendelkezik](http://pandas.pydata.org/pandas-docs/stable/generated/pandas.read_table.html), de csak egy kötelező paramétere van: a fájl, amit beolvasunk.\n",
    "A karakterkódolást is meg kell adnunk, mert a fájl nem az alapértelmezett (utf-8) kódolást használja, hanem az ISO-8859-1-et, vagy köznéven a latin1-et."
   ]
  },
  {
   "cell_type": "code",
   "execution_count": null,
   "metadata": {},
   "outputs": [],
   "source": [
    "# df = pd.read_table(\"ml-100k/u.item\")  # UnicodeDecodeErrort kapunk, mert rossz dekódert használ\n",
    "df = pd.read_table(os.path.join(data_dir, \"u.item\"), encoding=\"latin1\")\n",
    "df.head()"
   ]
  },
  {
   "cell_type": "markdown",
   "metadata": {},
   "source": [
    "Ez még elég rosszul néz ki. Hogyan tudnánk javítani?\n",
    "1. Rossz szeparátort használt a függvény (tab az alapértelmezett). A fájlban | a szeparátor. Ezt a `sep` paraméterrel tudjuk megadni.\n",
    "1. A fájl első sora került az oszlopnevek helyére. Az oszlopok valódi nevei a README fájlból derülnek ki, amit kézzel megadhatjuk a read_table-nek a `names` paraméterben.\n",
    "1. A read_table automatikusan generált egy id-t minden sornak, azonban az adatfájlban a filmek már rendelkeznek egy egyedi azonosítóval (movie_id), használjuk ezt a DataFrame indexeként (`index_col` paraméter). Célszerű szóköz nélküli, kisbetűs oszlopneveket használni, mert akkor attribútumként is elérjük őket (`df.release_date`)."
   ]
  },
  {
   "cell_type": "code",
   "execution_count": null,
   "metadata": {},
   "outputs": [],
   "source": [
    "column_names = [\n",
    "    \"movie_id\", \"title\", \"release_date\", \"video_release_date\", \"imdb_url\", \"unknown\", \"action\", \"adventure\", \"animation\",\n",
    "    \"children\", \"comedy\", \"crime\", \"documentary\", \"drama\", \"fantasy\", \"film_noir\", \"horror\", \"musical\", \"mystery\",\n",
    "    \"romance\", \"sci_fi\", \"thriller\", \"war\", \"western\"]"
   ]
  },
  {
   "cell_type": "code",
   "execution_count": null,
   "metadata": {},
   "outputs": [],
   "source": [
    "df = pd.read_table(\n",
    "    os.path.join(data_dir, \"u.item\"), sep=\"|\",\n",
    "    names=column_names, encoding=\"latin1\", index_col='movie_id')\n",
    "df.head()"
   ]
  },
  {
   "cell_type": "markdown",
   "metadata": {},
   "source": [
    "Két oszlop is van, amik dátumot jelölnek: `release_date, video_release_date`. A pandas parszolni tudja a dátumokat többféle népszerű formátumban, ehhez csak a `parse_dates` paraméterben kell megadnunk a dátumot tartalmazó oszlopokat. Figyeljük meg, hogy ahol nincs dátum, az Nan (not a number)-ről NaT-ra (not a time) változik."
   ]
  },
  {
   "cell_type": "code",
   "execution_count": null,
   "metadata": {},
   "outputs": [],
   "source": [
    "df = pd.read_table(os.path.join(data_dir, \"u.item\"), sep=\"|\",\n",
    "                   names=column_names, encoding=\"latin1\",\n",
    "                   parse_dates=[2,3], index_col='movie_id')\n",
    "df.head()"
   ]
  },
  {
   "cell_type": "markdown",
   "metadata": {},
   "source": [
    "Még mindig nem tökéletes, hiszen a filmek címei után szerepel az évszám zárójelben, ami egyrészt redundáns, másrészt zaj. Tüntessük el!\n",
    "\n",
    "A szokásos `str` műveletek egy része elérhető DataSeries objektumokra is (minden elemre végrehajtja). A függvényeket az `str` névtérben találjuk."
   ]
  },
  {
   "cell_type": "code",
   "execution_count": null,
   "metadata": {},
   "outputs": [],
   "source": [
    "df.title.str"
   ]
  },
  {
   "cell_type": "markdown",
   "metadata": {},
   "source": [
    "Egy reguláris kifejezéssel eltüntetjük a két zárójel közti részt, majd eltávolítjuk az ott maradt whitespace-eket (a strip függvény a stringek elejéről és végéről is eltávolítja).\n",
    "Végül adjuk értékül a régi title oszlopnak a kezdő és záró whitespace-ektől megfosztott változatát."
   ]
  },
  {
   "cell_type": "code",
   "execution_count": null,
   "metadata": {},
   "outputs": [],
   "source": [
    "df.title = df.title.str.replace(r'\\(.*\\)', '').str.strip()"
   ]
  },
  {
   "cell_type": "code",
   "execution_count": null,
   "metadata": {},
   "outputs": [],
   "source": [
    "df.head()"
   ]
  },
  {
   "cell_type": "markdown",
   "metadata": {},
   "source": [
    "A `video_release_date` mező az első néhány sorban csak érvénytelen mezőket tartalmaz. Vajon igaz ez az egész DataFrame-re? Listázzuk ki azokat a mezőket, ahol nem NaT a video_release_date értéke, vagyis érvénytelen dátum."
   ]
  },
  {
   "cell_type": "code",
   "execution_count": null,
   "metadata": {},
   "outputs": [],
   "source": [
    "df[df.video_release_date.notnull()]"
   ]
  },
  {
   "cell_type": "markdown",
   "metadata": {},
   "source": [
    "Nincs ilyen mező, ezért elhagyhatjuk az oszlopot."
   ]
  },
  {
   "cell_type": "code",
   "execution_count": null,
   "metadata": {},
   "outputs": [],
   "source": [
    "df = df.drop('video_release_date', axis=1)\n",
    "df.head()"
   ]
  },
  {
   "cell_type": "markdown",
   "metadata": {},
   "source": [
    "Van egy `unknown` oszlop, ettől is szabaduljunk meg!"
   ]
  },
  {
   "cell_type": "code",
   "execution_count": null,
   "metadata": {},
   "outputs": [],
   "source": [
    "df = df.drop('unknown', axis=1)"
   ]
  },
  {
   "cell_type": "markdown",
   "metadata": {},
   "source": [
    "## Adatok felszínes vizsgálata\n",
    "\n",
    "Nézzük meg, hogy milyen információkat tudhatunk könnyedén meg a DataFrame-ről."
   ]
  },
  {
   "cell_type": "markdown",
   "metadata": {},
   "source": [
    "A `describe` függvény oszloponként szolgáltat alapvető infomációkkal: darabszám, átlag, szórás stb.\n",
    "Mivel a legtöbb mező bináris, most nem tudunk meg sok hasznos információt a mezőkről."
   ]
  },
  {
   "cell_type": "code",
   "execution_count": null,
   "metadata": {},
   "outputs": [],
   "source": [
    "df.describe()"
   ]
  },
  {
   "cell_type": "markdown",
   "metadata": {},
   "source": [
    "### Átlag, szórás, variancia stb.\n",
    "\n",
    "Egyenként is lekérdezhetőek:\n",
    "\n",
    "1. `count()`\n",
    "1. átlag: `mean()`\n",
    "1. szórás: `std()`\n",
    "1. variancia: `var()`\n",
    "1. 50% kvantilis: `quantile(.5)`\n",
    "1. `min`, `max`"
   ]
  },
  {
   "cell_type": "code",
   "execution_count": null,
   "metadata": {},
   "outputs": [],
   "source": [
    "df.quantile(.9).head()"
   ]
  },
  {
   "cell_type": "markdown",
   "metadata": {},
   "source": [
    "# Egyszerű lekérdezések "
   ]
  },
  {
   "cell_type": "markdown",
   "metadata": {},
   "source": [
    "## Melyik filmek jelentek meg 1956-ban? "
   ]
  },
  {
   "cell_type": "code",
   "execution_count": null,
   "metadata": {},
   "outputs": [],
   "source": [
    "df[df.release_date.dt.year == 1956]"
   ]
  },
  {
   "cell_type": "markdown",
   "metadata": {},
   "source": [
    "## Melyik filmek jelentek meg a 80-as években?"
   ]
  },
  {
   "cell_type": "code",
   "execution_count": null,
   "metadata": {},
   "outputs": [],
   "source": [
    "d = df[(df.release_date.dt.year >=  1980) & (df.release_date.dt.year < 1990)]\n",
    "len(d)"
   ]
  },
  {
   "cell_type": "markdown",
   "metadata": {},
   "source": [
    "107 film jelent meg a 80-as években, ezt már nem praktikus kiíni. Nézzük meg csak az első 3-at."
   ]
  },
  {
   "cell_type": "code",
   "execution_count": null,
   "metadata": {},
   "outputs": [],
   "source": [
    "d.head(3)"
   ]
  },
  {
   "cell_type": "markdown",
   "metadata": {},
   "source": [
    "### A megjelenítési év legyen külön oszlop\n",
    "\n",
    "Többször fogjuk még használni a megjelenési évet, ezért praktikus külön év oszlopot létrehozni.\n",
    "\n",
    "A DateTime mezőhöz használható metódusok és attribútumok a dt névtérben vannak, így tudjuk minden oszlopra egyszerre meghívni. Az eredményt egy új oszlopban tároljuk."
   ]
  },
  {
   "cell_type": "code",
   "execution_count": null,
   "metadata": {},
   "outputs": [],
   "source": [
    "df['year'] = df.release_date.dt.year"
   ]
  },
  {
   "cell_type": "markdown",
   "metadata": {},
   "source": [
    "## Mikor jelentek meg a Die Hard filmek? "
   ]
  },
  {
   "cell_type": "code",
   "execution_count": null,
   "metadata": {},
   "outputs": [],
   "source": [
    "df[df.title == 'Die Hard']"
   ]
  },
  {
   "cell_type": "markdown",
   "metadata": {},
   "source": [
    "Sajnos csak teljes egyezésre tudunk így szűrni.\n",
    "\n",
    "A szöveges mezőkre a pandas nyújt egy csomó műveletet, amik az str névtérben vannak (ahogy a dátum mezőkre a dt-ben voltak)."
   ]
  },
  {
   "cell_type": "code",
   "execution_count": null,
   "metadata": {},
   "outputs": [],
   "source": [
    "df[df.title.str.contains('Die Hard')]"
   ]
  },
  {
   "cell_type": "markdown",
   "metadata": {},
   "source": [
    "A Die Hard 4 és 5 hiányzik. Kilógnának az adatsorból? Nézzük meg még egyszer, hogy mikori filmek szerepelnek."
   ]
  },
  {
   "cell_type": "code",
   "execution_count": null,
   "metadata": {},
   "outputs": [],
   "source": [
    "df.release_date.describe()"
   ]
  },
  {
   "cell_type": "markdown",
   "metadata": {},
   "source": [
    "A Die Hard 4 és 5 2007-ben, illetve 2013-ban jelentek meg, ezért nem szerepelnek az adatban."
   ]
  },
  {
   "cell_type": "markdown",
   "metadata": {},
   "source": [
    "### Melyik filmek tartoznak egyszerre az akció és romantikus kategóriába?"
   ]
  },
  {
   "cell_type": "code",
   "execution_count": null,
   "metadata": {},
   "outputs": [],
   "source": [
    "d = df[(df.action==1) & (df.romance==1)]\n",
    "print(len(d))\n",
    "d.head()"
   ]
  },
  {
   "cell_type": "markdown",
   "metadata": {},
   "source": [
    "### Melyik filmek tartoznak az akció VAGY a romantikus kategóriába?\n",
    "\n",
    "Itt a Boole vagyra gondolunk."
   ]
  },
  {
   "cell_type": "code",
   "execution_count": null,
   "metadata": {},
   "outputs": [],
   "source": [
    "d = df[(df.action==1) | (df.romance==1)]\n",
    "print(len(d))\n",
    "d.head()"
   ]
  },
  {
   "cell_type": "markdown",
   "metadata": {
    "deletable": false,
    "editable": false,
    "nbgrader": {
     "checksum": "794775487fd5d1a40e72cab5c415d0d2",
     "grade": false,
     "grade_id": "cell-83664848351a0968",
     "locked": true,
     "schema_version": 1,
     "solution": false
    }
   },
   "source": [
    "# 1. feladat: egyszerű lekérdezések\n",
    "\n",
    "## Q1.1. Hány akciófilm jelent meg 1985 előtt, illetve 1985-ben vagy később?"
   ]
  },
  {
   "cell_type": "code",
   "execution_count": null,
   "metadata": {
    "deletable": false,
    "nbgrader": {
     "checksum": "a8d49ef435a03df8d2bcffbd8d87e2f2",
     "grade": false,
     "grade_id": "cell-abde75970957d2cb",
     "locked": false,
     "schema_version": 1,
     "solution": true
    }
   },
   "outputs": [],
   "source": [
    "def count_movies_before_1985(df):\n",
    "    # YOUR CODE HERE\n",
    "    raise NotImplementedError()\n",
    "    \n",
    "def count_movies_after_1984(df):\n",
    "    # YOUR CODE HERE\n",
    "    raise NotImplementedError()"
   ]
  },
  {
   "cell_type": "code",
   "execution_count": null,
   "metadata": {
    "deletable": false,
    "editable": false,
    "nbgrader": {
     "checksum": "bb8e48e78102bd3ebb1f11f0c358a7b6",
     "grade": true,
     "grade_id": "cell-90380c100c2c99e4",
     "locked": true,
     "points": 2,
     "schema_version": 1,
     "solution": false
    }
   },
   "outputs": [],
   "source": [
    "before = count_movies_before_1985(df)\n",
    "print(before)\n",
    "assert type(before) == int\n",
    "\n",
    "after = count_movies_after_1984(df)\n",
    "print(after)\n",
    "assert type(after) == int"
   ]
  },
  {
   "cell_type": "markdown",
   "metadata": {
    "collapsed": true
   },
   "source": [
    "## Q1.2. Létezik-e gyerekeknek szóló thriller? Keress egy példát rá és térj vissza a film címével."
   ]
  },
  {
   "cell_type": "code",
   "execution_count": null,
   "metadata": {
    "deletable": false,
    "nbgrader": {
     "checksum": "de3efd3e234bad2c9e0a269a1a59feb4",
     "grade": false,
     "grade_id": "cell-7d6998016cab5cd9",
     "locked": false,
     "schema_version": 1,
     "solution": true
    }
   },
   "outputs": [],
   "source": [
    "def child_thriller(df):\n",
    "    # YOUR CODE HERE\n",
    "    raise NotImplementedError()"
   ]
  },
  {
   "cell_type": "code",
   "execution_count": null,
   "metadata": {
    "deletable": false,
    "editable": false,
    "nbgrader": {
     "checksum": "ef50f7d63580a8c6c4ad86cd2b299d9e",
     "grade": true,
     "grade_id": "cell-cbb321ba78e5eed5",
     "locked": true,
     "points": 2,
     "schema_version": 1,
     "solution": false
    }
   },
   "outputs": [],
   "source": [
    "title = child_thriller(df)\n",
    "assert type(title) == str"
   ]
  },
  {
   "cell_type": "markdown",
   "metadata": {
    "collapsed": true
   },
   "source": [
    "## Q1.3. Hány filmnek hosszabb a címe, mint 30 karakter?"
   ]
  },
  {
   "cell_type": "code",
   "execution_count": null,
   "metadata": {
    "deletable": false,
    "nbgrader": {
     "checksum": "3851df6b38d0c8150d0ecc8f3deb4d9e",
     "grade": false,
     "grade_id": "cell-7480c2cb962bc996",
     "locked": false,
     "schema_version": 1,
     "solution": true
    }
   },
   "outputs": [],
   "source": [
    "def long_titles(df):\n",
    "    # YOUR CODE HERE\n",
    "    raise NotImplementedError()"
   ]
  },
  {
   "cell_type": "code",
   "execution_count": null,
   "metadata": {
    "deletable": false,
    "editable": false,
    "nbgrader": {
     "checksum": "695639339697d688dec916a9715bd3ad",
     "grade": true,
     "grade_id": "cell-073da9a4a0ec716b",
     "locked": true,
     "points": 2,
     "schema_version": 1,
     "solution": false
    }
   },
   "outputs": [],
   "source": [
    "title_cnt = long_titles(df)\n",
    "assert type(title_cnt) == int"
   ]
  },
  {
   "cell_type": "markdown",
   "metadata": {},
   "source": [
    "## Q1.4. Mi a legrégebbi és a legújabb film címe?\n",
    "\n",
    "A megjelenésnek nem csak éve van!"
   ]
  },
  {
   "cell_type": "code",
   "execution_count": null,
   "metadata": {
    "deletable": false,
    "nbgrader": {
     "checksum": "2791ddb8e2f2968d1f6fe4329173c259",
     "grade": false,
     "grade_id": "cell-db89cfcda5c6fb31",
     "locked": false,
     "schema_version": 1,
     "solution": true
    }
   },
   "outputs": [],
   "source": [
    "def oldest_movie(df):\n",
    "    # YOUR CODE HERE\n",
    "    raise NotImplementedError()\n",
    "\n",
    "def newest_movie(df):\n",
    "    # YOUR CODE HERE\n",
    "    raise NotImplementedError()"
   ]
  },
  {
   "cell_type": "code",
   "execution_count": null,
   "metadata": {
    "deletable": false,
    "editable": false,
    "nbgrader": {
     "checksum": "2c17a680319291981704cf5437f19fce",
     "grade": true,
     "grade_id": "cell-03b3ff7a443c1f34",
     "locked": true,
     "points": 2,
     "schema_version": 1,
     "solution": false
    }
   },
   "outputs": [],
   "source": [
    "oldest = oldest_movie(df)\n",
    "newest = newest_movie(df)\n",
    "\n",
    "assert type(oldest) == str\n",
    "assert type(newest) == str"
   ]
  },
  {
   "cell_type": "markdown",
   "metadata": {},
   "source": [
    "## Q1.5. Melyik a legújabb sci-fi?"
   ]
  },
  {
   "cell_type": "code",
   "execution_count": null,
   "metadata": {
    "deletable": false,
    "nbgrader": {
     "checksum": "1c100d0a3f7f39af248257fca9c13817",
     "grade": false,
     "grade_id": "cell-70ec6b26d5705422",
     "locked": false,
     "schema_version": 1,
     "solution": true
    }
   },
   "outputs": [],
   "source": [
    "def newest_scifi(df):\n",
    "    # YOUR CODE HERE\n",
    "    raise NotImplementedError()"
   ]
  },
  {
   "cell_type": "code",
   "execution_count": null,
   "metadata": {
    "deletable": false,
    "editable": false,
    "nbgrader": {
     "checksum": "258184942d372f64e2a04f5d638fcb44",
     "grade": true,
     "grade_id": "cell-eeae9ee18c8b9329",
     "locked": true,
     "points": 2,
     "schema_version": 1,
     "solution": false
    }
   },
   "outputs": [],
   "source": [
    "newest = newest_scifi(df)\n",
    "assert type(newest) == str"
   ]
  },
  {
   "cell_type": "markdown",
   "metadata": {},
   "source": [
    "# Csoportosítás és vizualizáció"
   ]
  },
  {
   "cell_type": "markdown",
   "metadata": {},
   "source": [
    "## Hány filmet adtak ki évente?\n",
    "\n",
    "A kérdést két lépésben tudjuk megválaszolni:\n",
    "\n",
    "1. csoportosítás évenként\n",
    "2. összesítés 1-1 évre\n"
   ]
  },
  {
   "cell_type": "code",
   "execution_count": null,
   "metadata": {},
   "outputs": [],
   "source": [
    "df.groupby('year').size().plot()"
   ]
  },
  {
   "cell_type": "markdown",
   "metadata": {},
   "source": [
    "Vonaldiagram az alapértelmezett, de oszlopdiagramként informatívabb lenne."
   ]
  },
  {
   "cell_type": "code",
   "execution_count": null,
   "metadata": {},
   "outputs": [],
   "source": [
    "df.groupby('year').size().plot(kind='bar')"
   ]
  },
  {
   "cell_type": "markdown",
   "metadata": {},
   "source": [
    "Lásztik, hogy a 80-as évek végén nőtt meg a kiadott filmek száma, kicsit közelítsünk rá. Ehhez először szűrni fogjuk a 1985 utáni filmeket, majd csoportosítva ábrázolni."
   ]
  },
  {
   "cell_type": "code",
   "execution_count": null,
   "metadata": {},
   "outputs": [],
   "source": [
    "d = df[df.year > 1985]\n",
    "d.groupby('year').size().plot(kind='bar')\n",
    "# df[df.year > 1985].groupby('year').size().plot(kind='bar')  # vagy egy sorban"
   ]
  },
  {
   "cell_type": "markdown",
   "metadata": {},
   "source": [
    "## Groupby tetszőleges feltétel szerint\n",
    "\n",
    "Nem csak egy kategóriaértékű oszlop szerint csoportosíthatunk, hanem tetszőleges kifejezés szerint. Ezt kihasználva fogunk évtizedenként csoportosítani. A groupby-nak bármilyen kifejezést megadhatunk, ami diszkrét értékekre képezi le a sorokat, tehát véges sok csoport egyikébe helyezi (mint egy hash függvény).\n",
    "\n",
    "Az évtizedet úgy kaphatjuk meg, ha az évet 10-zel osztjuk és csak az egészrészt tartjuk meg, hiszen 1983/10 és 1984/10 egészrésze ugyanúgy 198. Használjuk a Python egészosztás operátorát (//)."
   ]
  },
  {
   "cell_type": "code",
   "execution_count": null,
   "metadata": {},
   "outputs": [],
   "source": [
    "d = df.groupby(df.year // 10 * 10)\n",
    "d.groups.keys()  # létrejött csoportok listázása"
   ]
  },
  {
   "cell_type": "code",
   "execution_count": null,
   "metadata": {},
   "outputs": [],
   "source": [
    "d.size().plot(kind='bar')"
   ]
  },
  {
   "cell_type": "markdown",
   "metadata": {
    "collapsed": true
   },
   "source": [
    "# 2. feladat: csoportosítás és vizualizáció\n",
    "\n",
    "## Q2.1. Csoportosítsd vígjátékokat (comedy) évenként. Ábrázold oszlopdiagramon hány vígjátékot adtak ki évente."
   ]
  },
  {
   "cell_type": "code",
   "execution_count": null,
   "metadata": {
    "deletable": false,
    "nbgrader": {
     "checksum": "be8d1d71406b33b08aa7200aa81ba5c4",
     "grade": false,
     "grade_id": "cell-c10e5a08055ccda8",
     "locked": false,
     "schema_version": 1,
     "solution": true
    }
   },
   "outputs": [],
   "source": [
    "def comedy_by_year(df):\n",
    "    # YOUR CODE HERE\n",
    "    raise NotImplementedError()"
   ]
  },
  {
   "cell_type": "code",
   "execution_count": null,
   "metadata": {
    "deletable": false,
    "editable": false,
    "nbgrader": {
     "checksum": "2bff52040d9c83abd2826e93e200f615",
     "grade": true,
     "grade_id": "cell-807aa8d0d6a6bfc1",
     "locked": true,
     "points": 1,
     "schema_version": 1,
     "solution": false
    }
   },
   "outputs": [],
   "source": [
    "c = comedy_by_year(df)\n",
    "assert type(c) == pd.core.groupby.DataFrameGroupBy"
   ]
  },
  {
   "cell_type": "markdown",
   "metadata": {},
   "source": [
    "### Ábrázold."
   ]
  },
  {
   "cell_type": "code",
   "execution_count": null,
   "metadata": {
    "deletable": false,
    "nbgrader": {
     "checksum": "80917f3a05ad5692f978d35ef2b19356",
     "grade": true,
     "grade_id": "cell-140b896a5eb168c2",
     "locked": false,
     "points": 1,
     "schema_version": 1,
     "solution": true
    }
   },
   "outputs": [],
   "source": [
    "# YOUR CODE HERE\n",
    "raise NotImplementedError()"
   ]
  },
  {
   "cell_type": "markdown",
   "metadata": {
    "collapsed": true
   },
   "source": [
    "## Gyerekfilmet vagy krimit adnak ki többet évtizedenként?"
   ]
  },
  {
   "cell_type": "code",
   "execution_count": null,
   "metadata": {},
   "outputs": [],
   "source": [
    "col1 = 'children'\n",
    "col2 = 'crime'\n",
    "d = df[['year', col1, col2]].copy()\n",
    "d['diff'] = d[col1] - d[col2]\n",
    "d.groupby(d.year // 10 * 10).sum()"
   ]
  },
  {
   "cell_type": "code",
   "execution_count": null,
   "metadata": {},
   "outputs": [],
   "source": [
    "d.groupby(d.year // 10 * 10).sum().plot(y='diff', kind='bar')"
   ]
  },
  {
   "cell_type": "markdown",
   "metadata": {
    "collapsed": true
   },
   "source": [
    "A 90-es években több filmet adtak ki, mint előtte összesen, nézzük meg azt az évtizedet közelebbről!"
   ]
  },
  {
   "cell_type": "markdown",
   "metadata": {},
   "source": [
    "## Q2.2. Mennyivel adtak ki több gyerekfilmet, mint krimit *évente* a 90-es években? Ábrázold.\n",
    "\n",
    "Először a szűrt groupby-t készítsd el az imént létrhozott `d` `DataFrame`-ből."
   ]
  },
  {
   "cell_type": "code",
   "execution_count": null,
   "metadata": {
    "deletable": false,
    "nbgrader": {
     "checksum": "ac74ffafba0296a080ccc610c0d65a47",
     "grade": false,
     "grade_id": "cell-7c0a00a23a0d4571",
     "locked": false,
     "schema_version": 1,
     "solution": true
    }
   },
   "outputs": [],
   "source": [
    "def groupby_nineties(d):\n",
    "    # YOUR CODE HERE\n",
    "    raise NotImplementedError()"
   ]
  },
  {
   "cell_type": "code",
   "execution_count": null,
   "metadata": {
    "deletable": false,
    "editable": false,
    "nbgrader": {
     "checksum": "74f6b565c663678b1e06a1c3403fce51",
     "grade": true,
     "grade_id": "cell-b2540f371e9031f2",
     "locked": true,
     "points": 1,
     "schema_version": 1,
     "solution": false
    }
   },
   "outputs": [],
   "source": [
    "nineties = groupby_nineties(d)\n",
    "assert type(nineties) == pd.core.groupby.DataFrameGroupBy\n",
    "\n",
    "# a diff oszlop szerepel\n",
    "assert 'diff' in nineties.sum()"
   ]
  },
  {
   "cell_type": "markdown",
   "metadata": {},
   "source": [
    "### Ábrázold."
   ]
  },
  {
   "cell_type": "code",
   "execution_count": null,
   "metadata": {
    "deletable": false,
    "nbgrader": {
     "checksum": "51d69e2d32d3424b6ade8a8dc0539c7c",
     "grade": true,
     "grade_id": "cell-3e55984d23007a72",
     "locked": false,
     "points": 1,
     "schema_version": 1,
     "solution": true
    }
   },
   "outputs": [],
   "source": [
    "# YOUR CODE HERE\n",
    "raise NotImplementedError()"
   ]
  },
  {
   "cell_type": "markdown",
   "metadata": {},
   "source": [
    "## Q2.3. Ábrázold a kiadási napok (hónap napjai) eloszlását egy tortadiagramon!\n",
    "\n",
    "Tortadiagramot a `plot` függvény `kind=\"pie\"` argumentumával tudsz készíteni.\n",
    "\n",
    "A tortadiagramhoz érdemes megváltoztatni a diagram képarányát, amit a plot függvény `figsize` paraméterének megadásával tehetsz meg. `figsize=(10,10)`. Százalékokat a `autopct=\"%.0lf%%\"` opcióval lehet a diagramra írni.\n",
    "\n",
    "A tortadiagramot szebbé teheted másik colormap választásával: [dokumentáció](http://pandas.pydata.org/pandas-docs/stable/visualization.html#colormaps) és a [colormapek listája](http://scipy.github.io/old-wiki/pages/Cookbook/Matplotlib/Show_colormaps)."
   ]
  },
  {
   "cell_type": "code",
   "execution_count": null,
   "metadata": {
    "deletable": false,
    "nbgrader": {
     "checksum": "cc610af14cec9330d6cd862a367614cb",
     "grade": false,
     "grade_id": "cell-315ae1f679373727",
     "locked": false,
     "schema_version": 1,
     "solution": true
    }
   },
   "outputs": [],
   "source": [
    "def groupby_release_day(df):\n",
    "    # YOUR CODE HERE\n",
    "    raise NotImplementedError()"
   ]
  },
  {
   "cell_type": "code",
   "execution_count": null,
   "metadata": {
    "deletable": false,
    "editable": false,
    "nbgrader": {
     "checksum": "05ec9f6098c828dd93956a00cf5762e9",
     "grade": true,
     "grade_id": "cell-096bd0f71dd64737",
     "locked": true,
     "points": 1,
     "schema_version": 1,
     "solution": false
    }
   },
   "outputs": [],
   "source": [
    "by_day = groupby_release_day(df)\n",
    "assert type(by_day) == pd.core.groupby.DataFrameGroupBy\n",
    "\n",
    "# legfeljebb 31 napos egy hónap\n",
    "assert len(by_day) < 32\n",
    "\n",
    "# nehogy a hét napjai szerint csoportosítsunk\n",
    "assert len(by_day) > 7"
   ]
  },
  {
   "cell_type": "markdown",
   "metadata": {},
   "source": [
    "### Ábrázold."
   ]
  },
  {
   "cell_type": "code",
   "execution_count": null,
   "metadata": {
    "deletable": false,
    "nbgrader": {
     "checksum": "9f547fcc006ac4e3f509f92ba132d84c",
     "grade": true,
     "grade_id": "cell-6ec6a50f9b8f16ce",
     "locked": false,
     "points": 1,
     "schema_version": 1,
     "solution": true
    }
   },
   "outputs": [],
   "source": [
    "# YOUR CODE HERE\n",
    "raise NotImplementedError()"
   ]
  },
  {
   "cell_type": "markdown",
   "metadata": {},
   "source": [
    "## Q2.4. Hagyományos lexikont szeretnénk készíteni a filmekből. Melyik kezdőbetű hányszor fordul elő a filmek címében? Ábrázold tortadiagramon.\n",
    "\n",
    "### Csoportosítsd a filmeket kezdőbetű szerint."
   ]
  },
  {
   "cell_type": "code",
   "execution_count": null,
   "metadata": {
    "deletable": false,
    "nbgrader": {
     "checksum": "be4e5df09ed307a8bd77138a2325cec1",
     "grade": false,
     "grade_id": "cell-195ef56890ee5308",
     "locked": false,
     "schema_version": 1,
     "solution": true
    }
   },
   "outputs": [],
   "source": [
    "def groupby_initial_letter(df):\n",
    "    # YOUR CODE HERE\n",
    "    raise NotImplementedError()"
   ]
  },
  {
   "cell_type": "code",
   "execution_count": null,
   "metadata": {
    "deletable": false,
    "editable": false,
    "nbgrader": {
     "checksum": "41cc9b28cc9bb7e69dfc1b6facc41ab9",
     "grade": true,
     "grade_id": "cell-adf0cd4d7e02bbce",
     "locked": true,
     "points": 1,
     "schema_version": 1,
     "solution": false
    }
   },
   "outputs": [],
   "source": [
    "initial = groupby_initial_letter(df)\n",
    "\n",
    "assert type(initial) == pd.core.groupby.DataFrameGroupBy"
   ]
  },
  {
   "cell_type": "markdown",
   "metadata": {},
   "source": [
    "### Ábrázold."
   ]
  },
  {
   "cell_type": "code",
   "execution_count": null,
   "metadata": {
    "deletable": false,
    "nbgrader": {
     "checksum": "a19f66d4fdda83e2ce6d577fcff4062c",
     "grade": true,
     "grade_id": "cell-f0fffc87a2e19e12",
     "locked": false,
     "points": 1,
     "schema_version": 1,
     "solution": true
    }
   },
   "outputs": [],
   "source": [
    "# YOUR CODE HERE\n",
    "raise NotImplementedError()"
   ]
  },
  {
   "cell_type": "markdown",
   "metadata": {},
   "source": [
    "## \\*Q2.5. Írj függvényt, ami több oszlop mentén csoportosít és visszaadja a legnagyobb csoportot.\n",
    "\n",
    "Tipp: a `GroupBy` objektum `get_group` függvénye visszaad egy csoportot."
   ]
  },
  {
   "cell_type": "code",
   "execution_count": null,
   "metadata": {
    "deletable": false,
    "nbgrader": {
     "checksum": "c64c4391204f80e449a4ee53e74d37dc",
     "grade": false,
     "grade_id": "cell-c579e9521b6eeb41",
     "locked": false,
     "schema_version": 1,
     "solution": true
    }
   },
   "outputs": [],
   "source": [
    "def get_largest_group(df, groupby_columns):\n",
    "    # YOUR CODE HERE\n",
    "    raise NotImplementedError()"
   ]
  },
  {
   "cell_type": "code",
   "execution_count": null,
   "metadata": {
    "deletable": false,
    "editable": false,
    "nbgrader": {
     "checksum": "89337b207f37a7e68e8e30c29053a1f6",
     "grade": true,
     "grade_id": "cell-29cf58ac88388473",
     "locked": true,
     "points": 2,
     "schema_version": 1,
     "solution": false
    }
   },
   "outputs": [],
   "source": [
    "genres = [\"drama\"]\n",
    "drama_largest = get_largest_group(df, genres)\n",
    "\n",
    "assert type(drama_largest) == pd.DataFrame\n",
    "assert len(drama_largest) == 957\n",
    "\n",
    "genres = [\"drama\", \"comedy\"]\n",
    "both_largest = get_largest_group(df, genres)\n",
    "\n",
    "# a csoportban minden film comedy es drama cimkeje azonos\n",
    "assert both_largest[[\"comedy\", \"drama\"]].nunique().loc[\"comedy\"] == 1\n",
    "assert both_largest[[\"comedy\", \"drama\"]].nunique().loc[\"drama\"] == 1\n",
    "print(both_largest.shape)"
   ]
  },
  {
   "cell_type": "markdown",
   "metadata": {},
   "source": [
    "# Több DataFrame kezelése, pd.merge"
   ]
  },
  {
   "cell_type": "markdown",
   "metadata": {},
   "source": [
    "Az adathalmaz lényegi része a 100000 értékelés, amit az u.data fájlból tudunk beolvasni. A README-ből kiolvashatjuk a fájl oszlopait."
   ]
  },
  {
   "cell_type": "code",
   "execution_count": null,
   "metadata": {},
   "outputs": [],
   "source": [
    "cols = ['user', 'movie_id', 'rating', 'timestamp']\n",
    "ratings = pd.read_table(os.path.join(data_dir, \"u.data\"), names=cols)"
   ]
  },
  {
   "cell_type": "code",
   "execution_count": null,
   "metadata": {},
   "outputs": [],
   "source": [
    "ratings.head()"
   ]
  },
  {
   "cell_type": "markdown",
   "metadata": {},
   "source": [
    "A timestamp oszlop Unix timestampeket tartalmaz, konvertáljuk DateTime-má."
   ]
  },
  {
   "cell_type": "code",
   "execution_count": null,
   "metadata": {},
   "outputs": [],
   "source": [
    "ratings['timestamp'] = pd.to_datetime(ratings.timestamp, unit='s')\n",
    "ratings.head()"
   ]
  },
  {
   "cell_type": "markdown",
   "metadata": {
    "collapsed": true
   },
   "source": [
    "## Merge a film táblával"
   ]
  },
  {
   "cell_type": "markdown",
   "metadata": {},
   "source": [
    "Mivel már több DataFrame-mel dolgozunk, érdemes a filmeket tartalmazó táblának beszédesebb nevet adni."
   ]
  },
  {
   "cell_type": "code",
   "execution_count": null,
   "metadata": {},
   "outputs": [],
   "source": [
    "movies = df"
   ]
  },
  {
   "cell_type": "markdown",
   "metadata": {},
   "source": [
    "Felülírjuk a ratings táblát:"
   ]
  },
  {
   "cell_type": "code",
   "execution_count": null,
   "metadata": {},
   "outputs": [],
   "source": [
    "ratings = pd.merge(ratings, movies, left_on='movie_id', right_index=True)\n",
    "ratings.head()"
   ]
  },
  {
   "cell_type": "markdown",
   "metadata": {},
   "source": [
    "## Hány értékelés érkezett a film megjelenése előtt?"
   ]
  },
  {
   "cell_type": "code",
   "execution_count": null,
   "metadata": {},
   "outputs": [],
   "source": [
    "len(ratings[ratings.timestamp <= ratings.release_date])"
   ]
  },
  {
   "cell_type": "markdown",
   "metadata": {},
   "source": [
    "## Hogy oszlik meg ez a szám a filmek között? "
   ]
  },
  {
   "cell_type": "code",
   "execution_count": null,
   "metadata": {},
   "outputs": [],
   "source": [
    "ratings[ratings.timestamp <= ratings.release_date].title.value_counts()"
   ]
  },
  {
   "cell_type": "markdown",
   "metadata": {},
   "source": [
    "# 3. feladat: merge\n",
    "\n",
    "## Q3.1. Hány film kapott legalább egyszer 4 fölötti értékelést?\n",
    "\n",
    "VIGYÁZAT! A filmek címe nem feltétlenül egyedi."
   ]
  },
  {
   "cell_type": "code",
   "execution_count": null,
   "metadata": {
    "deletable": false,
    "nbgrader": {
     "checksum": "085f89d27394d0ae19b45216759960b8",
     "grade": false,
     "grade_id": "cell-85e9dec05f71c070",
     "locked": false,
     "schema_version": 1,
     "solution": true
    }
   },
   "outputs": [],
   "source": [
    "def count_greater_than_4(ratings):\n",
    "    # YOUR CODE HERE\n",
    "    raise NotImplementedError()"
   ]
  },
  {
   "cell_type": "code",
   "execution_count": null,
   "metadata": {
    "deletable": false,
    "editable": false,
    "nbgrader": {
     "checksum": "9995e201ac6886a917afc32f4de6dfa5",
     "grade": true,
     "grade_id": "cell-c78934077414f26d",
     "locked": true,
     "points": 2,
     "schema_version": 1,
     "solution": false
    }
   },
   "outputs": [],
   "source": [
    "greater = count_greater_than_4(ratings)\n",
    "\n",
    "assert type(greater) == int\n",
    "assert greater != 1160  # titles are NOT UNIQUE"
   ]
  },
  {
   "cell_type": "markdown",
   "metadata": {},
   "source": [
    "## Hisztogram készítése az egyes értékelésekről\n",
    "\n",
    "Hisztogram készítésére (melyik érték hányszor szerepelt), a hist függvény áll rendelkezésünkre:"
   ]
  },
  {
   "cell_type": "code",
   "execution_count": null,
   "metadata": {},
   "outputs": [],
   "source": [
    "ratings.hist('rating', bins=5)"
   ]
  },
  {
   "cell_type": "markdown",
   "metadata": {},
   "source": [
    "## Q3.2. Ábrázold hisztogramon az 1960 előtti krimik értékeléseit!"
   ]
  },
  {
   "cell_type": "code",
   "execution_count": null,
   "metadata": {
    "deletable": false,
    "nbgrader": {
     "checksum": "7664e34c48231f99cc0e44323a21a527",
     "grade": false,
     "grade_id": "cell-82bbc27fb2b886d4",
     "locked": false,
     "schema_version": 1,
     "solution": true
    }
   },
   "outputs": [],
   "source": [
    "def filter_old_crime_movies(ratings):\n",
    "    # YOUR CODE HERE\n",
    "    raise NotImplementedError()"
   ]
  },
  {
   "cell_type": "code",
   "execution_count": null,
   "metadata": {
    "deletable": false,
    "editable": false,
    "nbgrader": {
     "checksum": "4f390cfea8e8d8d965e14b85dc851fde",
     "grade": true,
     "grade_id": "cell-404084fefeed11d9",
     "locked": true,
     "points": 1,
     "schema_version": 1,
     "solution": false
    }
   },
   "outputs": [],
   "source": [
    "old_crime_movies = filter_old_crime_movies(ratings)\n",
    "\n",
    "assert type(old_crime_movies) == pd.DataFrame"
   ]
  },
  {
   "cell_type": "markdown",
   "metadata": {},
   "source": [
    "### Ábrázold."
   ]
  },
  {
   "cell_type": "code",
   "execution_count": null,
   "metadata": {
    "deletable": false,
    "nbgrader": {
     "checksum": "82680a50937d370fe18002d1a7734d9d",
     "grade": true,
     "grade_id": "cell-49e31c1f00cff001",
     "locked": false,
     "points": 1,
     "schema_version": 1,
     "solution": true
    }
   },
   "outputs": [],
   "source": [
    "# YOUR CODE HERE\n",
    "raise NotImplementedError()"
   ]
  },
  {
   "cell_type": "markdown",
   "metadata": {},
   "source": [
    "## Q3.3. Mi az értékelések átlaga évtizedenként (film megjelenési éve)? \n",
    "\n",
    "Figyelj arra, hogy csak annyi adat szerepeljen az összesítésben, amennyit a feladat kér. Az indexek legyenek az évtizedek kezdőévei."
   ]
  },
  {
   "cell_type": "code",
   "execution_count": null,
   "metadata": {
    "deletable": false,
    "nbgrader": {
     "checksum": "21d988438d2feb9ac6e3afc8fdbeb3f8",
     "grade": false,
     "grade_id": "cell-decbc921ca930464",
     "locked": false,
     "schema_version": 1,
     "solution": true
    }
   },
   "outputs": [],
   "source": [
    "def rating_mean_by_decade(ratings):\n",
    "    # YOUR CODE HERE\n",
    "    raise NotImplementedError()"
   ]
  },
  {
   "cell_type": "code",
   "execution_count": null,
   "metadata": {
    "deletable": false,
    "editable": false,
    "nbgrader": {
     "checksum": "fb5e4cbe7864918a4aabe47c0fe31544",
     "grade": true,
     "grade_id": "cell-982a107959b04fcb",
     "locked": true,
     "points": 2,
     "schema_version": 1,
     "solution": false
    }
   },
   "outputs": [],
   "source": [
    "decade_mean = rating_mean_by_decade(ratings)\n",
    "\n",
    "# csak az ertekeles oszlop atalga erdekel minket, nem az egesz DataFrame-e\n",
    "assert not type(decade_mean) == pd.DataFrame\n",
    "assert type(decade_mean) == pd.Series\n",
    "assert 1920 in decade_mean.index\n",
    "assert 1921 not in decade_mean.index"
   ]
  },
  {
   "cell_type": "markdown",
   "metadata": {},
   "source": [
    "## Q3.4. Az értékelésekhez tartozik egy timestamp. Mi az értékelések átlaga a hét napjaira  lebontva?\n",
    "\n",
    "Tehát melyik napon jószívűbbek az emberek?\n",
    "\n",
    "Tipp: érdemes körbenézni a dátummezőkhöz tartozó `dt` névtérben."
   ]
  },
  {
   "cell_type": "code",
   "execution_count": null,
   "metadata": {
    "deletable": false,
    "nbgrader": {
     "checksum": "59ad65b0533eb7982fc56cef0985ae65",
     "grade": false,
     "grade_id": "cell-834d55d50f7f0b46",
     "locked": false,
     "schema_version": 1,
     "solution": true
    }
   },
   "outputs": [],
   "source": [
    "def rating_mean_by_weekday(ratings):\n",
    "    # YOUR CODE HERE\n",
    "    raise NotImplementedError()"
   ]
  },
  {
   "cell_type": "code",
   "execution_count": null,
   "metadata": {
    "deletable": false,
    "editable": false,
    "nbgrader": {
     "checksum": "9821cb15070fb1de971586f487fa3a7e",
     "grade": true,
     "grade_id": "cell-fe28d509139366c5",
     "locked": true,
     "points": 2,
     "schema_version": 1,
     "solution": false
    }
   },
   "outputs": [],
   "source": [
    "weekday_mean = rating_mean_by_weekday(ratings)\n",
    "\n",
    "assert type(weekday_mean) == pd.Series\n",
    "assert type(weekday_mean) != pd.DataFrame  # csak egy oszlop kell"
   ]
  },
  {
   "cell_type": "markdown",
   "metadata": {},
   "source": [
    "## Q3.5. Melyik hónapban mennyi a kalandfilmek (adventure) értékeléseinek szórása? \n",
    "\n",
    "Vigyázat, a szórás és a variancia nem azonos!"
   ]
  },
  {
   "cell_type": "code",
   "execution_count": null,
   "metadata": {
    "deletable": false,
    "nbgrader": {
     "checksum": "243453c70ea4cc3787b5c2b748b7b928",
     "grade": false,
     "grade_id": "cell-740366a1e5685e43",
     "locked": false,
     "schema_version": 1,
     "solution": true
    }
   },
   "outputs": [],
   "source": [
    "def adventure_monthly_std(ratings):\n",
    "    # YOUR CODE HERE\n",
    "    raise NotImplementedError()"
   ]
  },
  {
   "cell_type": "code",
   "execution_count": null,
   "metadata": {
    "deletable": false,
    "editable": false,
    "nbgrader": {
     "checksum": "229db57fdc101b6f1d476a7d521da857",
     "grade": true,
     "grade_id": "cell-2c59e52f7ed415e2",
     "locked": true,
     "points": 2,
     "schema_version": 1,
     "solution": false
    }
   },
   "outputs": [],
   "source": [
    "adventure = adventure_monthly_std(ratings)\n",
    "assert type(adventure) == pd.Series\n",
    "assert type(adventure) != pd.DataFrame\n",
    "\n",
    "# legfeljebb 12 különböző hónapban érkezhettek értékelések\n",
    "assert len(adventure) <= 12"
   ]
  },
  {
   "cell_type": "markdown",
   "metadata": {},
   "source": [
    "# 4. feladat: Users DataFrame"
   ]
  },
  {
   "cell_type": "markdown",
   "metadata": {},
   "source": [
    "## Q4.1 Olvasd be a u.user fájlt egy `users` nevű DataFrame-be!\n",
    "\n",
    "Segítségképpen az oszlopok: `user_id, age, gender, occupation, zip`. A `user_id` oszlop legyen a `DataFrame` indexe."
   ]
  },
  {
   "cell_type": "code",
   "execution_count": null,
   "metadata": {
    "deletable": false,
    "nbgrader": {
     "checksum": "300acdd4652736b1e334a3ca437c490e",
     "grade": false,
     "grade_id": "cell-3b9d4b1a3c17f947",
     "locked": false,
     "schema_version": 1,
     "solution": true
    }
   },
   "outputs": [],
   "source": [
    "# users = ...\n",
    "# YOUR CODE HERE\n",
    "raise NotImplementedError()"
   ]
  },
  {
   "cell_type": "code",
   "execution_count": null,
   "metadata": {
    "deletable": false,
    "editable": false,
    "nbgrader": {
     "checksum": "21f331de89d666db3580e25ea528e89e",
     "grade": true,
     "grade_id": "cell-6f08c87c9232ef24",
     "locked": true,
     "points": 2,
     "schema_version": 1,
     "solution": false
    }
   },
   "outputs": [],
   "source": [
    "assert type(users) == pd.DataFrame\n",
    "\n",
    "# user_id starts from 1\n",
    "assert 0 not in users.index"
   ]
  },
  {
   "cell_type": "markdown",
   "metadata": {},
   "source": [
    "## Q4.2. Merge-öld a `ratings` táblát a `users` táblával. Őrizd meg az összes oszlopot."
   ]
  },
  {
   "cell_type": "code",
   "execution_count": null,
   "metadata": {
    "deletable": false,
    "nbgrader": {
     "checksum": "7f3bdac78b968a765255a4842fc16e1e",
     "grade": false,
     "grade_id": "cell-ec3d2a62dc6dc469",
     "locked": false,
     "schema_version": 1,
     "solution": true
    }
   },
   "outputs": [],
   "source": [
    "# ratings = ratings.merge...\n",
    "# YOUR CODE HERE\n",
    "raise NotImplementedError()"
   ]
  },
  {
   "cell_type": "code",
   "execution_count": null,
   "metadata": {
    "deletable": false,
    "editable": false,
    "nbgrader": {
     "checksum": "91bb0a80db734d99b3617e84d0c5a9c8",
     "grade": true,
     "grade_id": "cell-d0b90709db5b9338",
     "locked": true,
     "points": 2,
     "schema_version": 1,
     "solution": false
    }
   },
   "outputs": [],
   "source": [
    "assert type(ratings) == pd.DataFrame\n",
    "assert ratings.shape == (100000, 30)"
   ]
  },
  {
   "cell_type": "markdown",
   "metadata": {},
   "source": [
    "## Q4.3. Korcsoportonként hány értékelést adtak le? 10 évet veszünk egy korcsoportnak, tehát 10-19, 20-29 stb. Ábrázold oszlopdiagramon."
   ]
  },
  {
   "cell_type": "code",
   "execution_count": null,
   "metadata": {
    "deletable": false,
    "nbgrader": {
     "checksum": "a1d8e6269570eb72352d0742e6f68841",
     "grade": false,
     "grade_id": "cell-a5a8c50bbaffd17a",
     "locked": false,
     "schema_version": 1,
     "solution": true
    }
   },
   "outputs": [],
   "source": [
    "def by_age_group(ratings):\n",
    "    # YOUR CODE HERE\n",
    "    raise NotImplementedError()"
   ]
  },
  {
   "cell_type": "code",
   "execution_count": null,
   "metadata": {
    "deletable": false,
    "editable": false,
    "nbgrader": {
     "checksum": "f858a40259afc91033cd4d9897861607",
     "grade": true,
     "grade_id": "cell-348e64e87ba32c6d",
     "locked": true,
     "points": 1,
     "schema_version": 1,
     "solution": false
    }
   },
   "outputs": [],
   "source": [
    "r = by_age_group(ratings)\n",
    "\n",
    "assert type(r) == pd.Series\n",
    "assert 20 in r"
   ]
  },
  {
   "cell_type": "markdown",
   "metadata": {},
   "source": [
    "### Ábrázold."
   ]
  },
  {
   "cell_type": "code",
   "execution_count": null,
   "metadata": {
    "deletable": false,
    "nbgrader": {
     "checksum": "807f663652ebd596c99c577e1cc05344",
     "grade": true,
     "grade_id": "cell-1b2695f675b80d8f",
     "locked": false,
     "points": 1,
     "schema_version": 1,
     "solution": true
    }
   },
   "outputs": [],
   "source": [
    "# YOUR CODE HERE\n",
    "raise NotImplementedError()"
   ]
  },
  {
   "cell_type": "markdown",
   "metadata": {},
   "source": [
    "## Q4.4. A nap melyik órájában értékelnek a programozók, illetve a marketingesek? Ábrázold két tortadiagramon.\n",
    "\n",
    "Tipp:\n",
    "\n",
    "1. használd az értékelések táblából származó `timestamp` mezőt,\n",
    "1. használhatsz két külön cellát a megoldáshoz,\n",
    "1. gondold át hány szeletes lesz a tortadiagram.\n",
    "\n",
    "Készíts egy függvényt, ami egy adott szakma képviselőinek óránkénti értékelésszámát adja vissza."
   ]
  },
  {
   "cell_type": "code",
   "execution_count": null,
   "metadata": {
    "deletable": false,
    "nbgrader": {
     "checksum": "43919b2780a814d46a366590cbf6fa2a",
     "grade": false,
     "grade_id": "cell-defd70a60c72f32a",
     "locked": false,
     "schema_version": 1,
     "solution": true
    }
   },
   "outputs": [],
   "source": [
    "def occupation_cnt_by_hour(ratings, occupation):\n",
    "    # YOUR CODE HERE\n",
    "    raise NotImplementedError()"
   ]
  },
  {
   "cell_type": "code",
   "execution_count": null,
   "metadata": {
    "deletable": false,
    "editable": false,
    "nbgrader": {
     "checksum": "633baebec1c9266bc316e359ccbcdd4e",
     "grade": true,
     "grade_id": "cell-aec840e200fcc70a",
     "locked": true,
     "points": 1,
     "schema_version": 1,
     "solution": false
    }
   },
   "outputs": [],
   "source": [
    "marketing = occupation_cnt_by_hour(ratings, \"marketing\")\n",
    "assert type(marketing) == pd.Series\n",
    "\n",
    "# 24 órás egy nap\n",
    "assert len(marketing) < 25"
   ]
  },
  {
   "cell_type": "markdown",
   "metadata": {},
   "source": [
    "###  Ábrázold tortadiagramon a marketingesek és a programozók értékelési óráit.\n",
    "\n",
    "Először a marketingesek:"
   ]
  },
  {
   "cell_type": "code",
   "execution_count": null,
   "metadata": {
    "deletable": false,
    "nbgrader": {
     "checksum": "4f0b463b5cf3dddfb5d24e2d67d29d1c",
     "grade": true,
     "grade_id": "cell-624786d146b9ec08",
     "locked": false,
     "points": 1,
     "schema_version": 1,
     "solution": true
    }
   },
   "outputs": [],
   "source": [
    "# YOUR CODE HERE\n",
    "raise NotImplementedError()"
   ]
  },
  {
   "cell_type": "markdown",
   "metadata": {},
   "source": [
    "majd a programozók:"
   ]
  },
  {
   "cell_type": "code",
   "execution_count": null,
   "metadata": {
    "deletable": false,
    "editable": false,
    "nbgrader": {
     "checksum": "64d0039cced739f29ada9434a414f80d",
     "grade": false,
     "grade_id": "cell-5fee31c959a6e3fa",
     "locked": true,
     "schema_version": 1,
     "solution": false
    }
   },
   "outputs": [],
   "source": [
    "programmer = occupation_cnt_by_hour(ratings, \"programmer\")"
   ]
  },
  {
   "cell_type": "code",
   "execution_count": null,
   "metadata": {
    "deletable": false,
    "nbgrader": {
     "checksum": "e8ea2ec288ef2477b912735f95424727",
     "grade": true,
     "grade_id": "cell-624786d146b9ec09",
     "locked": false,
     "points": 0,
     "schema_version": 1,
     "solution": true
    }
   },
   "outputs": [],
   "source": [
    "# YOUR CODE HERE\n",
    "raise NotImplementedError()"
   ]
  },
  {
   "cell_type": "markdown",
   "metadata": {},
   "source": [
    "## Q4.5. Készíts hisztogramot az értékelési kedvről! Hány user adott le N értékelést?\n",
    "\n",
    "Segítség:\n",
    "\n",
    "- Az adatból hiányoznak a 20 értékelésnél kevesebbet leadó felhasználók, ami a hisztogramról könnyen leolvasható, ha jól ábrázoltad."
   ]
  },
  {
   "cell_type": "code",
   "execution_count": null,
   "metadata": {
    "deletable": false,
    "nbgrader": {
     "checksum": "4dc9f2e6f53b563203552c5c1e269463",
     "grade": true,
     "grade_id": "cell-873bebda81a56f86",
     "locked": false,
     "points": 2,
     "schema_version": 1,
     "solution": true
    }
   },
   "outputs": [],
   "source": [
    "# YOUR CODE HERE\n",
    "raise NotImplementedError()"
   ]
  },
  {
   "cell_type": "markdown",
   "metadata": {},
   "source": [
    "## Q4.6. (Szorgalmi) Milyen volt a nemek eloszlása a romantikus filmet, illetve az akciófilmeket értékelők között? Készíts két tortadiagramot!"
   ]
  },
  {
   "cell_type": "code",
   "execution_count": null,
   "metadata": {
    "deletable": false,
    "nbgrader": {
     "checksum": "1083b280ed030ce2e39a462f55c939dd",
     "grade": true,
     "grade_id": "cell-19dac56e5f81c7bb",
     "locked": false,
     "points": 1,
     "schema_version": 1,
     "solution": true
    }
   },
   "outputs": [],
   "source": [
    "# YOUR CODE HERE\n",
    "raise NotImplementedError()"
   ]
  },
  {
   "cell_type": "code",
   "execution_count": null,
   "metadata": {
    "deletable": false,
    "nbgrader": {
     "checksum": "afb1e10b58b2faf9068adb6414927c86",
     "grade": true,
     "grade_id": "cell-e1a7f1085bbddd74",
     "locked": false,
     "points": 1,
     "schema_version": 1,
     "solution": true
    }
   },
   "outputs": [],
   "source": [
    "# YOUR CODE HERE\n",
    "raise NotImplementedError()"
   ]
  },
  {
   "cell_type": "markdown",
   "metadata": {},
   "source": [
    "## Q4.7. (Szorgalmi) Jóval több férfi adott le értékelést. Hogy alakulnak ezek az arányok, ha normálunk az összes értékelésre jellemző nemek arányával?"
   ]
  },
  {
   "cell_type": "code",
   "execution_count": null,
   "metadata": {
    "deletable": false,
    "nbgrader": {
     "checksum": "8b4bc70991da0e4936641b6364a16ade",
     "grade": true,
     "grade_id": "cell-e2e0b2a84a665316",
     "locked": false,
     "points": 1,
     "schema_version": 1,
     "solution": true
    }
   },
   "outputs": [],
   "source": [
    "# YOUR CODE HERE\n",
    "raise NotImplementedError()"
   ]
  },
  {
   "cell_type": "code",
   "execution_count": null,
   "metadata": {
    "deletable": false,
    "nbgrader": {
     "checksum": "ed75a235e5f992fcae0c213dbd728b84",
     "grade": true,
     "grade_id": "cell-f057a3e74b72e950",
     "locked": false,
     "points": 1,
     "schema_version": 1,
     "solution": true
    }
   },
   "outputs": [],
   "source": [
    "# YOUR CODE HERE\n",
    "raise NotImplementedError()"
   ]
  },
  {
   "cell_type": "markdown",
   "metadata": {},
   "source": [
    "## Q4.8. (\\*\\*Szorgalmi) A nap melyik órájában melyik szakma értékel legtöbbször és hányszor értékelnek?\n",
    "\n",
    "Példa válasz:\n",
    "\n",
    "* 0-1 óra között a mérnökök értékelnek legtöbbször, 2134-szer.\n",
    "* 1-2 óra között az oktatók (educator) értékelnek legtöbbször, 1879-szer.\n",
    "\n",
    "Táblázatos formában elég megválaszolni."
   ]
  },
  {
   "cell_type": "code",
   "execution_count": null,
   "metadata": {
    "deletable": false,
    "nbgrader": {
     "checksum": "a804d91f7bfd236ad862597d35e84164",
     "grade": true,
     "grade_id": "cell-6b047a791e3254e0",
     "locked": false,
     "points": 4,
     "schema_version": 1,
     "solution": true
    }
   },
   "outputs": [],
   "source": [
    "# YOUR CODE HERE\n",
    "raise NotImplementedError()"
   ]
  },
  {
   "cell_type": "markdown",
   "metadata": {},
   "source": [
    "# 5. feladat: K legközelebbi szomszéd\n",
    "\n",
    "Ebben a feladatban a műfajok alapján fogjuk megkeresni minden filmhez a hozzá leghasonlóbb K filmet. Az eljárás neve k-nearest neighbor (KNN). A scikit-learn tartalmaz több KNN implementációt is, mi most a ball_tree-t fogjuk használni. Az osztály dokumentációja itt található: http://scikit-learn.org/stable/modules/neighbors.html"
   ]
  },
  {
   "cell_type": "markdown",
   "metadata": {},
   "source": [
    "## Q5.1. Nyerd ki a movies adattáblából a műfaji címkéket mátrixként!\n",
    "\n",
    "A DataFrame `values` attribútumával kérhetünk le mátrixként az értékeket (oszlopnév, index stb. nélkül). Most csak a műfajokat tartalmazó oszlopokat kell megtartani. Vigyázz, az utolsó oszlop az évet tartalmazza!\n",
    "\n",
    "A mátrix neve legyen `X`."
   ]
  },
  {
   "cell_type": "code",
   "execution_count": null,
   "metadata": {
    "deletable": false,
    "nbgrader": {
     "checksum": "6d4156276d3f1de2422044c6dc429ffb",
     "grade": false,
     "grade_id": "cell-fe6d40d926d8a660",
     "locked": false,
     "schema_version": 1,
     "solution": true
    }
   },
   "outputs": [],
   "source": [
    "# YOUR CODE HERE\n",
    "raise NotImplementedError()"
   ]
  },
  {
   "cell_type": "code",
   "execution_count": null,
   "metadata": {
    "deletable": false,
    "editable": false,
    "nbgrader": {
     "checksum": "731bb83cba1fd18bbf0ddc4877c23719",
     "grade": true,
     "grade_id": "cell-da1eaf640b440622",
     "locked": true,
     "points": 2,
     "schema_version": 1,
     "solution": false
    }
   },
   "outputs": [],
   "source": [
    "assert type(X) == np.ndarray"
   ]
  },
  {
   "cell_type": "markdown",
   "metadata": {},
   "source": [
    "## Q5.2. Futtasd le a KNN-t az X mátrixon!\n",
    "\n",
    "Ehhez bele kell nézned a `NearestNeighbors` [dokumentációjába](http://scikit-learn.org/stable/modules/neighbors.html).\n",
    "\n",
    "Az indexeket az `indices` változóban tárold.\n",
    "\n",
    "A legközelebbi szomszédok számát a `K` változóban tárold. Először állítsd 4-re a `K`-t, később kísérletezhetsz más értékekkel is. A többi paramétert ne módosítsd, különben a tesztek nem biztos, hogy működnek."
   ]
  },
  {
   "cell_type": "code",
   "execution_count": null,
   "metadata": {
    "deletable": false,
    "nbgrader": {
     "checksum": "0c1a7d0111c016767250173c36633e42",
     "grade": false,
     "grade_id": "cell-e23d2df014b9c039",
     "locked": false,
     "schema_version": 1,
     "solution": true
    }
   },
   "outputs": [],
   "source": [
    "from sklearn.neighbors import NearestNeighbors\n",
    "def run_knn(X, K):\n",
    "    # YOUR CODE HERE\n",
    "    raise NotImplementedError()"
   ]
  },
  {
   "cell_type": "code",
   "execution_count": null,
   "metadata": {
    "deletable": false,
    "editable": false,
    "nbgrader": {
     "checksum": "89af28138ddcee5f20ba26ab42490998",
     "grade": true,
     "grade_id": "cell-52c32d16b43a7b38",
     "locked": true,
     "points": 2,
     "schema_version": 1,
     "solution": false
    }
   },
   "outputs": [],
   "source": [
    "K = 4\n",
    "indices = run_knn(X, K)\n",
    "assert type(indices) == np.ndarray\n",
    "\n",
    "# K legközelebbi szomszédot keresünk\n",
    "assert indices.shape[1] == K"
   ]
  },
  {
   "cell_type": "markdown",
   "metadata": {},
   "source": [
    "Az indices változó tartalmazza az indexeket, ebből készítsünk DataFrame-et:"
   ]
  },
  {
   "cell_type": "code",
   "execution_count": null,
   "metadata": {},
   "outputs": [],
   "source": [
    "ind = pd.DataFrame(indices)\n",
    "ind.head()"
   ]
  },
  {
   "cell_type": "markdown",
   "metadata": {},
   "source": [
    "Értelmezzük a táblázatot!\n",
    "Az index oszlop (első oszlop) azt mondja meg, hogy az X mátrix hányadik sorához tartozó szomszédok találhatók meg a sorban. A 0-3. nevű oszlopok a legközelebbi szomszédokat adják meg. Legtöbb film esetén saját maga a legközelebbi szomszédja, hiszen 0 a távolságuk, azonban nincs mindenhol így. Mit gondolsz, miért?\n",
    "\n",
    "A táblázat indexe 0-val kezdődik, de a movies táblában a movie_id 1-től indul."
   ]
  },
  {
   "cell_type": "markdown",
   "metadata": {},
   "source": [
    "## Q5.3. Állítsd át az ind DataFrame indexét úgy, hogy 1-től indexeljen! Az összes mezőt is növeld meg eggyel!\n",
    "\n",
    "Segítség: a Pandas alapok Vektoros műveletvégzés részét érdemes megnézni."
   ]
  },
  {
   "cell_type": "code",
   "execution_count": null,
   "metadata": {
    "deletable": false,
    "nbgrader": {
     "checksum": "ac49f73919fb3742109f0a44a03dd39f",
     "grade": false,
     "grade_id": "cell-cecc2201e7ecceac",
     "locked": false,
     "schema_version": 1,
     "solution": true
    }
   },
   "outputs": [],
   "source": [
    "def increment_table(df):\n",
    "    # YOUR CODE HERE\n",
    "    raise NotImplementedError()"
   ]
  },
  {
   "cell_type": "code",
   "execution_count": null,
   "metadata": {
    "deletable": false,
    "editable": false,
    "nbgrader": {
     "checksum": "fc6c589baffcf6fe77bdbd7d151ee875",
     "grade": true,
     "grade_id": "cell-6824c6d0dee16223",
     "locked": true,
     "points": 2,
     "schema_version": 1,
     "solution": false
    }
   },
   "outputs": [],
   "source": [
    "indices = increment_table(ind)\n",
    "assert indices.shape[1] == 4\n",
    "assert indices.index[0] == 1\n",
    "assert indices.index[-1] == len(indices)"
   ]
  },
  {
   "cell_type": "markdown",
   "metadata": {},
   "source": [
    "## Q5.4. Keresd meg az indexekhez tartozó filmcímeket!\n",
    "\n",
    "Az `indices` táblázatban filmcímek helyett indexek vannak, ami nem túl felhasználóbarát. A `movies DataFrame` tartalmazza a filmeket indexekkel együtt, ezzel kell merge-ölni `K` alkalommal.\n",
    "\n",
    "Pl. az első sorban megjelenő 422-es index az Aladdin and the King of Thieves film indexe. Kerüljön ez a cím az index helyére a merge után. \n",
    "\n",
    "Segítség:\n",
    "1. az `indices` tábla oszlopainak nevei most nem stringek, hanem integerek,\n",
    "1. az oszlopokat át tudod nevezni a `rename` metódussal.\n",
    "\n",
    "~~~\n",
    "df = df.rename(columns={'regi': 'uj', 'masik regi': 'masik uj'})\n",
    "~~~\n",
    "\n",
    "A filmcímeken kívül minden oszlopot el lehet dobni. \n",
    "\n",
    "Tipp: érdemes belenézni a kapott táblázatba, hogy reálisak-e az adatok. Pl. a Toy Story szomszédai szintén rajzfilmek lesznek."
   ]
  },
  {
   "cell_type": "code",
   "execution_count": null,
   "metadata": {
    "deletable": false,
    "nbgrader": {
     "checksum": "2854303a6da5a857c658f1e27890ba2b",
     "grade": false,
     "grade_id": "cell-932b906e68960691",
     "locked": false,
     "schema_version": 1,
     "solution": true
    }
   },
   "outputs": [],
   "source": [
    "def find_neighbor_titles(movies, indices):\n",
    "    # YOUR CODE HERE\n",
    "    raise NotImplementedError()"
   ]
  },
  {
   "cell_type": "code",
   "execution_count": null,
   "metadata": {
    "deletable": false,
    "editable": false,
    "nbgrader": {
     "checksum": "5080097a3feade6f72afa8ec6791a546",
     "grade": true,
     "grade_id": "cell-57f36492ded274a6",
     "locked": true,
     "points": 2,
     "schema_version": 1,
     "solution": false
    }
   },
   "outputs": [],
   "source": [
    "neighbors = find_neighbor_titles(movies, indices)\n",
    "assert type(neighbors) == pd.DataFrame\n",
    "assert neighbors.shape[1] == K"
   ]
  },
  {
   "cell_type": "markdown",
   "metadata": {},
   "source": [
    "## Q5.5. Jelenjen meg a táblázatban az a film is, aminek a szomszédjai a sorban vannak! A címeken kívül más oszlopa ne legyen a táblázatnak!\n",
    "\n",
    "Most olyanok a soraink hogy:\n",
    "Jelenleg a táblázat indexe a filmek azonosítója, tehát egy szám:\n",
    "\n",
    "| | nearest1 | nearest 2 |\n",
    "| ------- | ----- | ----- |\n",
    "| **1** | hasonló film címe 1 | hasonló film címe 2 |\n",
    "\n",
    "Számok helyett a filmcím legyen az index.\n",
    "\n",
    "| | nearest1 | nearest 2 |\n",
    "| ------- | ----- | ----- |\n",
    "| **Filmcím** | hasonló film címe 1 | hasonló film címe 2 |\n",
    "\n",
    "Sok filmnek saját maga a legközelebbi szomszédja."
   ]
  },
  {
   "cell_type": "code",
   "execution_count": null,
   "metadata": {
    "deletable": false,
    "nbgrader": {
     "checksum": "4f5ec8ebd52acb809664c173021ea2c9",
     "grade": false,
     "grade_id": "cell-535f7fadd4f931a2",
     "locked": false,
     "schema_version": 1,
     "solution": true
    }
   },
   "outputs": [],
   "source": [
    "def recover_titles(movies, neighbors):\n",
    "    # YOUR CODE HERE\n",
    "    raise NotImplementedError()"
   ]
  },
  {
   "cell_type": "code",
   "execution_count": null,
   "metadata": {
    "deletable": false,
    "editable": false,
    "nbgrader": {
     "checksum": "144774c7d76d2afaa29c80b042b5845f",
     "grade": true,
     "grade_id": "cell-c1ef83476f5df2fa",
     "locked": true,
     "points": 2,
     "schema_version": 1,
     "solution": false
    }
   },
   "outputs": [],
   "source": [
    "most_similar = recover_titles(movies, neighbors)\n",
    "\n",
    "assert type(most_similar) == pd.DataFrame\n",
    "assert \"Toy Story\" in most_similar.index"
   ]
  },
  {
   "cell_type": "markdown",
   "metadata": {},
   "source": [
    "## Q5.6. (Szorgalmi) Készíts függvényt, ami egy filmcímrészletet vesz át és megkeresi azokat a filmeket, amikben szerepel.\n",
    "\n",
    "A függvény visszatérési értéke legyen egy DataFrame, amely a hasonló filmeket tartalmazza (akkor is, ha 1 vagy 0 hasonló film van). A `most_similar` táblázat szintén a függvény paramétere."
   ]
  },
  {
   "cell_type": "code",
   "execution_count": null,
   "metadata": {
    "deletable": false,
    "nbgrader": {
     "checksum": "4d8cd69549e9d38bcf9305b2ac218959",
     "grade": false,
     "grade_id": "cell-78ec46d1aecf9284",
     "locked": false,
     "schema_version": 1,
     "solution": true
    }
   },
   "outputs": [],
   "source": [
    "def recommend_similar_movies(most_similar, title):\n",
    "    # YOUR CODE HERE\n",
    "    raise NotImplementedError()"
   ]
  },
  {
   "cell_type": "code",
   "execution_count": null,
   "metadata": {
    "deletable": false,
    "editable": false,
    "nbgrader": {
     "checksum": "46f555dc8c1fc67744d9085cd1c8f69c",
     "grade": true,
     "grade_id": "cell-50c785b4abadfd2c",
     "locked": true,
     "points": 1,
     "schema_version": 1,
     "solution": false
    }
   },
   "outputs": [],
   "source": [
    "die_hard = recommend_similar_movies(most_similar, \"Die Hard\")\n",
    "assert type(die_hard) == pd.DataFrame\n",
    "# there are more than one Die Hard movies\n",
    "assert len(die_hard) > 1"
   ]
  },
  {
   "cell_type": "code",
   "execution_count": null,
   "metadata": {
    "deletable": false,
    "editable": false,
    "nbgrader": {
     "checksum": "c0351a244679ffe0cc3929de061e02b7",
     "grade": true,
     "grade_id": "cell-d13ab9eb12789fdc",
     "locked": true,
     "points": 1,
     "schema_version": 1,
     "solution": false
    }
   },
   "outputs": [],
   "source": [
    "asdf_movies = recommend_similar_movies(most_similar, \"asdf\")\n",
    "assert type(asdf_movies) == pd.DataFrame"
   ]
  },
  {
   "cell_type": "markdown",
   "metadata": {},
   "source": [
    "# Visszajelzés\n",
    "\n",
    "Köszönöm, hogy végigcsináltad a labort, remélem, hogy hasznosnak találtad.\n",
    "\n",
    "Minden visszajelzés fontos és be fogom építeni következő alkalmakba. Kérlek töltsd ki ezt a rövid [kérdőívet](https://goo.gl/forms/e0Z6D8EcFdd9KOZG2)\n",
    "\n",
    "# Folytatás\n",
    "\n",
    "Ha kedvet kaptál a témához, érdemes megnézni a [kaggle.com](https://www.kaggle.com/) data science oldalt, ahol megnézheted mások kódját (általában egy Jupyter Notebook formájában :)), részt vehetsz versenyeken és sokat tanulhatsz a témáról."
   ]
  }
 ],
 "metadata": {
  "kernelspec": {
   "display_name": "Python 3",
   "language": "python",
   "name": "python3"
  },
  "language_info": {
   "codemirror_mode": {
    "name": "ipython",
    "version": 3
   },
   "file_extension": ".py",
   "mimetype": "text/x-python",
   "name": "python",
   "nbconvert_exporter": "python",
   "pygments_lexer": "ipython3",
   "version": "3.6.4"
  }
 },
 "nbformat": 4,
 "nbformat_minor": 1
}
