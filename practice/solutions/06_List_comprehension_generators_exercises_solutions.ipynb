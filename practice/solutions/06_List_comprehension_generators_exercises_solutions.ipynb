{
 "cells": [
  {
   "cell_type": "markdown",
   "metadata": {},
   "source": [
    "# List comprehension, generators, iteration exercises\n",
    "\n",
    "## 1. Comprehension\n",
    "\n",
    "Convert the following for loops into comprehensions:"
   ]
  },
  {
   "cell_type": "code",
   "execution_count": 1,
   "metadata": {},
   "outputs": [
    {
     "data": {
      "text/plain": [
       "[-7, -5, -3, -1, 1, 3, 5, 7]"
      ]
     },
     "execution_count": 1,
     "metadata": {},
     "output_type": "execute_result"
    }
   ],
   "source": [
    "l = []\n",
    "for i in range(-5, 10, 2):\n",
    "    l.append(i-2)\n",
    "l"
   ]
  },
  {
   "cell_type": "code",
   "execution_count": 2,
   "metadata": {},
   "outputs": [
    {
     "data": {
      "text/plain": [
       "[-7, -5, -3, -1, 1, 3, 5, 7]"
      ]
     },
     "execution_count": 2,
     "metadata": {},
     "output_type": "execute_result"
    }
   ],
   "source": [
    "[i-2 for i in range(-5, 10, 2)]"
   ]
  },
  {
   "cell_type": "code",
   "execution_count": 3,
   "metadata": {},
   "outputs": [
    {
     "data": {
      "text/plain": [
       "[4, 14, 24, 34, 44, 54, 64, 74, 84, 94]"
      ]
     },
     "execution_count": 3,
     "metadata": {},
     "output_type": "execute_result"
    }
   ],
   "source": [
    "l = []\n",
    "for i in range(100):\n",
    "    if i % 10 == 4:\n",
    "        l.append(i)\n",
    "l"
   ]
  },
  {
   "cell_type": "code",
   "execution_count": 4,
   "metadata": {},
   "outputs": [
    {
     "data": {
      "text/plain": [
       "[4, 14, 24, 34, 44, 54, 64, 74, 84, 94]"
      ]
     },
     "execution_count": 4,
     "metadata": {},
     "output_type": "execute_result"
    }
   ],
   "source": [
    "[i for i in range(100) if i % 10 == 4]"
   ]
  },
  {
   "cell_type": "code",
   "execution_count": 5,
   "metadata": {},
   "outputs": [
    {
     "data": {
      "text/plain": [
       "[1, 13, -3]"
      ]
     },
     "execution_count": 5,
     "metadata": {},
     "output_type": "execute_result"
    }
   ],
   "source": [
    "l1 = [12, 1, 0, 13, -3, -4, 0, 2]\n",
    "l2 = []\n",
    "\n",
    "for e in l1:\n",
    "    if e % 2 == 1:\n",
    "        l2.append(e)\n",
    "l2"
   ]
  },
  {
   "cell_type": "code",
   "execution_count": 6,
   "metadata": {},
   "outputs": [
    {
     "data": {
      "text/plain": [
       "[1, 13, -3]"
      ]
     },
     "execution_count": 6,
     "metadata": {},
     "output_type": "execute_result"
    }
   ],
   "source": [
    "[e for e in l1 if e % 2 == 1]"
   ]
  },
  {
   "cell_type": "code",
   "execution_count": 7,
   "metadata": {},
   "outputs": [
    {
     "data": {
      "text/plain": [
       "[False, True, False, True, True, False, False, False]"
      ]
     },
     "execution_count": 7,
     "metadata": {},
     "output_type": "execute_result"
    }
   ],
   "source": [
    "l1 = [12, 1, 0, 13, -3, -4, 0, 2]\n",
    "l2 = []\n",
    "\n",
    "for e in l1:\n",
    "    if e % 2 == 1:\n",
    "        l2.append(True)\n",
    "    else:\n",
    "        l2.append(False)\n",
    "l2"
   ]
  },
  {
   "cell_type": "code",
   "execution_count": 8,
   "metadata": {},
   "outputs": [
    {
     "data": {
      "text/plain": [
       "[False, True, False, True, True, False, False, False]"
      ]
     },
     "execution_count": 8,
     "metadata": {},
     "output_type": "execute_result"
    }
   ],
   "source": [
    "# solution 1\n",
    "[True if e % 2 == 1 else False for e in l1]\n",
    "# solution 2\n",
    "[e % 2 == 1 for e in l1]"
   ]
  },
  {
   "cell_type": "code",
   "execution_count": 9,
   "metadata": {},
   "outputs": [
    {
     "data": {
      "text/plain": [
       "[6,\n",
       " 12,\n",
       " 18,\n",
       " 24,\n",
       " 30,\n",
       " 10,\n",
       " 20,\n",
       " 30,\n",
       " 40,\n",
       " 50,\n",
       " 14,\n",
       " 28,\n",
       " 42,\n",
       " 56,\n",
       " 70,\n",
       " 22,\n",
       " 44,\n",
       " 66,\n",
       " 88,\n",
       " 110,\n",
       " 26,\n",
       " 52,\n",
       " 78,\n",
       " 104,\n",
       " 130,\n",
       " 34,\n",
       " 68,\n",
       " 102,\n",
       " 136,\n",
       " 170,\n",
       " 38,\n",
       " 76,\n",
       " 114,\n",
       " 152,\n",
       " 190]"
      ]
     },
     "execution_count": 9,
     "metadata": {},
     "output_type": "execute_result"
    }
   ],
   "source": [
    "l1 = [3, 5, 7, 11, 13, 17, 19]\n",
    "l2 = [2, 4, 6, 8, 10]\n",
    "\n",
    "products = []\n",
    "\n",
    "for x in l1:\n",
    "    for y in l2:\n",
    "        products.append(x*y)\n",
    "products"
   ]
  },
  {
   "cell_type": "code",
   "execution_count": 10,
   "metadata": {},
   "outputs": [
    {
     "data": {
      "text/plain": [
       "[6,\n",
       " 12,\n",
       " 18,\n",
       " 24,\n",
       " 30,\n",
       " 10,\n",
       " 20,\n",
       " 30,\n",
       " 40,\n",
       " 50,\n",
       " 14,\n",
       " 28,\n",
       " 42,\n",
       " 56,\n",
       " 70,\n",
       " 22,\n",
       " 44,\n",
       " 66,\n",
       " 88,\n",
       " 110,\n",
       " 26,\n",
       " 52,\n",
       " 78,\n",
       " 104,\n",
       " 130,\n",
       " 34,\n",
       " 68,\n",
       " 102,\n",
       " 136,\n",
       " 170,\n",
       " 38,\n",
       " 76,\n",
       " 114,\n",
       " 152,\n",
       " 190]"
      ]
     },
     "execution_count": 10,
     "metadata": {},
     "output_type": "execute_result"
    }
   ],
   "source": [
    "[x*y for x in l1 for y in l2]"
   ]
  },
  {
   "cell_type": "code",
   "execution_count": 11,
   "metadata": {},
   "outputs": [],
   "source": [
    "l1 = [3, 5, 7, 11, 13, 17, 19]\n",
    "l2 = [2, 4, 6, 8, 10]\n",
    "\n",
    "products = []\n",
    "\n",
    "for x in l1:\n",
    "    for y in l2:\n",
    "        if (x + y) % 3 == 0:\n",
    "            products.append(x*y)"
   ]
  },
  {
   "cell_type": "code",
   "execution_count": 12,
   "metadata": {},
   "outputs": [
    {
     "data": {
      "text/plain": [
       "[18, 20, 50, 14, 56, 44, 110, 26, 104, 68, 170, 38, 152]"
      ]
     },
     "execution_count": 12,
     "metadata": {},
     "output_type": "execute_result"
    }
   ],
   "source": [
    "[x * y for x in l1 for y in l2 if (x + y) % 3 == 0]"
   ]
  },
  {
   "cell_type": "code",
   "execution_count": 13,
   "metadata": {},
   "outputs": [
    {
     "data": {
      "text/plain": [
       "[['a', 'pp', 'ppp', 'llll', 'eeeee'],\n",
       " ['p', 'll', 'uuu', 'mmmm'],\n",
       " ['p', 'ee', 'aaa', 'rrrr'],\n",
       " ['a', 'vv', 'ooo', 'cccc', 'aaaaa', 'dddddd', 'ooooooo']]"
      ]
     },
     "execution_count": 13,
     "metadata": {},
     "output_type": "execute_result"
    }
   ],
   "source": [
    "fruits = [\"apple\", \"plum\", \"pear\", \"avocado\"]\n",
    "\n",
    "mtx = []\n",
    "for fruit in fruits:\n",
    "    row = []\n",
    "    for i, c in enumerate(fruit):\n",
    "        row.append(c*(i+1))\n",
    "    mtx.append(row)\n",
    "    \n",
    "mtx"
   ]
  },
  {
   "cell_type": "code",
   "execution_count": 14,
   "metadata": {},
   "outputs": [
    {
     "data": {
      "text/plain": [
       "[['a', 'pp', 'ppp', 'llll', 'eeeee'],\n",
       " ['p', 'll', 'uuu', 'mmmm'],\n",
       " ['p', 'ee', 'aaa', 'rrrr'],\n",
       " ['a', 'vv', 'ooo', 'cccc', 'aaaaa', 'dddddd', 'ooooooo']]"
      ]
     },
     "execution_count": 14,
     "metadata": {},
     "output_type": "execute_result"
    }
   ],
   "source": [
    "[[c*(i+1) for i, c in enumerate(fruit)] for fruit in fruits]"
   ]
  },
  {
   "cell_type": "code",
   "execution_count": 15,
   "metadata": {},
   "outputs": [
    {
     "data": {
      "text/plain": [
       "{'a': 5, 'b': 3, 'c': 1, 'd': 2, 's': 1}"
      ]
     },
     "execution_count": 15,
     "metadata": {},
     "output_type": "execute_result"
    }
   ],
   "source": [
    "text = \"ababaacdsadb\"\n",
    "\n",
    "char_freqs = {}\n",
    "\n",
    "for c in text:\n",
    "    try:\n",
    "        char_freqs[c] += 1\n",
    "    except KeyError:\n",
    "        char_freqs[c] = 1\n",
    "        \n",
    "char_freqs"
   ]
  },
  {
   "cell_type": "code",
   "execution_count": 16,
   "metadata": {},
   "outputs": [
    {
     "data": {
      "text/plain": [
       "{'a': 5, 'b': 3, 'c': 1, 'd': 2, 's': 1}"
      ]
     },
     "execution_count": 16,
     "metadata": {},
     "output_type": "execute_result"
    }
   ],
   "source": [
    "# set(text) prevents counting the same character as many times as it appears in the string\n",
    "{c: text.count(c) for c in set(text)}"
   ]
  },
  {
   "cell_type": "code",
   "execution_count": 17,
   "metadata": {},
   "outputs": [
    {
     "data": {
      "text/plain": [
       "{'a': 2, 'b': 3, 'c': 2}"
      ]
     },
     "execution_count": 17,
     "metadata": {},
     "output_type": "execute_result"
    }
   ],
   "source": [
    "d1 = {\"a\": 1, \"b\": 3, \"c\": 2}\n",
    "d2 = {\"a\": 2, \"b\": 1}\n",
    "\n",
    "d3 = {}\n",
    "\n",
    "for key in set(d1.keys()) | set(d2.keys()):\n",
    "    max_val = max(d1.get(key, 0), d2.get(key, 0))\n",
    "    d3[key] = max_val\n",
    "\n",
    "d3"
   ]
  },
  {
   "cell_type": "code",
   "execution_count": 18,
   "metadata": {},
   "outputs": [
    {
     "data": {
      "text/plain": [
       "{'a': 2, 'b': 3, 'c': 2}"
      ]
     },
     "execution_count": 18,
     "metadata": {},
     "output_type": "execute_result"
    }
   ],
   "source": [
    "{key: max(d1.get(key, 0), d2.get(key, 0)) for key in set(d1.keys()) | set(d2.keys())}"
   ]
  },
  {
   "cell_type": "markdown",
   "metadata": {},
   "source": [
    "## 2. Generators\n",
    "\n",
    "The following piece of code downloads a small sample of the Hungarian Webcorpus. We will work on this in later exercises.\n",
    "\n",
    "The corpus contains a single word-per-line and sentence boundaries are denoted by empty lines.\n",
    "\n",
    "The file has 4 columns separated by TABs:\n",
    "1. original word\n",
    "2. lemma (stemmed word)\n",
    "3. morphological analysis\n",
    "4. morphological analysis candidates.\n",
    "\n",
    "Take a look at the file before continuing."
   ]
  },
  {
   "cell_type": "code",
   "execution_count": 19,
   "metadata": {},
   "outputs": [],
   "source": [
    "import os\n",
    "import urllib.request\n",
    "\n",
    "fn = 'web2-4p-9-17'\n",
    "zipname = fn + '.zip'\n",
    "\n",
    "if not os.path.exists(zipname):\n",
    "    print(\"Downloading corpus\")\n",
    "    webcorp_url = \"http://avalon.aut.bme.hu/~judit/resources/webcorp_parts/web2-4p-9-17.zip\"\n",
    "    u = urllib.request.URLopener()\n",
    "    u.retrieve(webcorp_url, zipname)\n",
    "\n",
    "if not os.path.exists(fn):\n",
    "    from zipfile import ZipFile\n",
    "    with ZipFile(zipname) as myzip:\n",
    "        myzip.extractall()"
   ]
  },
  {
   "cell_type": "markdown",
   "metadata": {},
   "source": [
    "## 2.1. Write a generator function that yields one sentence at a time as a list of tokens. Make sure to yield the very last sentence of the file as well."
   ]
  },
  {
   "cell_type": "code",
   "execution_count": 20,
   "metadata": {},
   "outputs": [],
   "source": [
    "def read_sentences(filename):\n",
    "    with open(filename, encoding=\"utf8\") as f:\n",
    "        sent = []\n",
    "        for line in f:\n",
    "            # empty line -> sentence boundary\n",
    "            if not line.strip():\n",
    "                if sent:\n",
    "                    yield sent\n",
    "                sent = []\n",
    "            else:\n",
    "                word = line.split(\"\\t\")[0]\n",
    "                sent.append(word)\n",
    "        # let's not forget the last sentence\n",
    "        if sent:\n",
    "            yield sent\n",
    "    \n",
    "sentence_iter = read_sentences(fn)\n",
    "sentence = next(sentence_iter)\n",
    "\n",
    "assert(len(sentence) == 19)\n",
    "assert isinstance(sentence, list)\n",
    "\n",
    "next_sentence = next(sentence_iter)\n",
    "assert len(next_sentence) == 7\n",
    "\n",
    "sentences = read_sentences(fn)\n",
    "\n",
    "import types\n",
    "assert isinstance(sentences, types.GeneratorType)\n",
    "\n",
    "sentences = list(sentences)\n",
    "\n",
    "assert(len(sentences) == 90764)"
   ]
  },
  {
   "cell_type": "markdown",
   "metadata": {},
   "source": [
    "## 2.2 Write a generator function that yields one sentence at a time but skips short sentences. The length limit should be a parameter of the generator which defaults to 5."
   ]
  },
  {
   "cell_type": "code",
   "execution_count": 21,
   "metadata": {},
   "outputs": [],
   "source": [
    "def read_long_sentences(filename, min_length=5):\n",
    "    for sentence in read_sentences(filename):\n",
    "        if len(sentence) >= min_length:\n",
    "            yield sentence\n",
    "    \n",
    "sentences = read_long_sentences(fn)\n",
    "assert isinstance(sentences, types.GeneratorType)\n",
    "\n",
    "sentences = list(sentences)\n",
    "assert len(sentences) == 85163\n",
    "\n",
    "sentences = read_long_sentences(fn, 15)\n",
    "\n",
    "sentences = list(sentences)\n",
    "assert len(sentences) == 50059"
   ]
  },
  {
   "cell_type": "markdown",
   "metadata": {},
   "source": [
    "## 3. Binary search tree\n",
    "\n",
    "Create a binary search tree class for integers. Write tests for your solution as well.\n",
    "\n",
    "Implement the following:\n",
    "- iteration protocol for the tree. Traversal should be in-order (increasing order).\n",
    "- sum(tree) - sum of all the elements\n",
    "- min(tree), max(tree) - smallest, largest element\n",
    "- len(tree) - number of nodes"
   ]
  },
  {
   "cell_type": "code",
   "execution_count": 22,
   "metadata": {},
   "outputs": [
    {
     "name": "stdout",
     "output_type": "stream",
     "text": [
      "-10, 2, 100\n"
     ]
    }
   ],
   "source": [
    "# there are many ways to implement binary search trees, this is my approach\n",
    "\n",
    "class Tree:\n",
    "    def __init__(self, values=None):\n",
    "        self.value = None\n",
    "        self.left = None\n",
    "        self.right = None\n",
    "        self.is_leaf = True\n",
    "        if values is not None:\n",
    "            for v in values:\n",
    "                self.insert(v)\n",
    "    \n",
    "    def insert(self, value):\n",
    "        if not isinstance(value, int):\n",
    "            raise TypeError(\"Tree only supports integers\")\n",
    "        if self.is_leaf is True:\n",
    "            self.value = value\n",
    "            self.left = Tree()\n",
    "            self.right = Tree()\n",
    "            self.is_leaf = False\n",
    "        if self.value == value:\n",
    "            return\n",
    "        elif value < self.value:\n",
    "            self.left.insert(value)\n",
    "        else:\n",
    "            self.right.insert(value)\n",
    "                \n",
    "    def __len__(self):\n",
    "        if self.is_leaf:\n",
    "            return 0\n",
    "        return len(self.left) + 1 + len(self.right)\n",
    "    \n",
    "    def __iter__(self):\n",
    "        if self.is_leaf:\n",
    "            return\n",
    "        yield from self.left\n",
    "        yield self.value\n",
    "        yield from self.right\n",
    "        \n",
    "    def __str__(self):\n",
    "        return \", \".join(str(v) for v in self)\n",
    "            \n",
    "t = Tree() \n",
    "assert len(t) == 0\n",
    "t.insert(2)\n",
    "assert 2 in t\n",
    "assert len(t) == 1\n",
    "\n",
    "t.insert(-10)\n",
    "t.insert(100)\n",
    "assert len(t) == 3\n",
    "\n",
    "# inserting the same value again\n",
    "t.insert(2)\n",
    "assert len(t) == 3\n",
    "print(t)\n",
    "\n",
    "# min, max and sum are supported for iterables\n",
    "assert sum(t) == 92\n",
    "assert min(t) == -10\n",
    "assert max(t) == 100"
   ]
  },
  {
   "cell_type": "code",
   "execution_count": null,
   "metadata": {},
   "outputs": [],
   "source": []
  }
 ],
 "metadata": {
  "kernelspec": {
   "display_name": "Python 3",
   "language": "python",
   "name": "python3"
  },
  "language_info": {
   "codemirror_mode": {
    "name": "ipython",
    "version": 3
   },
   "file_extension": ".py",
   "mimetype": "text/x-python",
   "name": "python",
   "nbconvert_exporter": "python",
   "pygments_lexer": "ipython3",
   "version": "3.6.6"
  }
 },
 "nbformat": 4,
 "nbformat_minor": 2
}
